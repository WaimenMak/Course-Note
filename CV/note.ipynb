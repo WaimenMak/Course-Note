{
 "cells": [
  {
   "cell_type": "code",
   "execution_count": 1,
   "metadata": {
    "collapsed": true
   },
   "outputs": [],
   "source": [
    "import torch\n",
    "from torch.nn import functional as F\n",
    "import torch.nn as nn\n",
    "import pandas as pd\n",
    "import numpy as np\n",
    "from torch.utils.data import Dataset, DataLoader\n",
    "from torchvision import transforms"
   ]
  },
  {
   "cell_type": "code",
   "execution_count": 6,
   "metadata": {},
   "outputs": [
    {
     "name": "stderr",
     "output_type": "stream",
     "text": [
      "Downloading: \"https://download.pytorch.org/models/resnet18-5c106cde.pth\" to C:\\Users\\13271/.cache\\torch\\hub\\checkpoints\\resnet18-5c106cde.pth\n"
     ]
    },
    {
     "data": {
      "text/plain": [
       "  0%|          | 0.00/44.7M [00:00<?, ?B/s]"
      ]
     },
     "execution_count": 0,
     "metadata": {},
     "output_type": "execute_result"
    }
   ],
   "source": [
    "import torchvision.models as models\n",
    "\n",
    "net = models.resnet18(pretrained=True)"
   ]
  },
  {
   "cell_type": "code",
   "execution_count": 5,
   "metadata": {},
   "outputs": [],
   "source": [
    "class block(nn.Module):\n",
    "    def __init__(self, inpt_chann, oupt_chann, strides=1, conv1ks=False):\n",
    "        super(block, self).__init__()\n",
    "        self.component = nn.Sequential(\n",
    "            nn.Conv2d(inpt_chann, oupt_chann, kernel_size=3, padding=1, stride=strides),\n",
    "            nn.BatchNorm2d(oupt_chann),\n",
    "            nn.ReLU(inplace=True),\n",
    "            nn.Conv2d(oupt_chann, oupt_chann, kernel_size=3, padding=1),\n",
    "            nn.BatchNorm2d(oupt_chann)\n",
    "        )\n",
    "        if conv1ks:  #shortcut convolution\n",
    "            self.conv1ks = nn.Conv2d(inpt_chann, oupt_chann, kernel_size=1, stride=strides)\n",
    "        else:\n",
    "            self.conv1ks = None\n",
    "    def forward(self, x):\n",
    "        # self.component(x)\n",
    "        if self.conv1ks:\n",
    "            oupt = self.conv1ks(x) + self.component(x)\n",
    "        else:\n",
    "            oupt = x + self.component(x)\n",
    "        \n",
    "        return F.relu(oupt)\n",
    "        \n",
    "class resnet(nn.Module):\n",
    "    def __init__(self, inpt_chann, classes):\n",
    "        super(resnet, self).__init__()\n",
    "        self.inpt = nn.Sequential(\n",
    "            nn.Conv2d(inpt_chann, 64, kernel_size=7, stride=2, padding=3),\n",
    "            nn.BatchNorm2d(64),\n",
    "            nn.ReLU(),\n",
    "            nn.MaxPool2d(kernel_size=3, stride=2, padding=1))\n",
    "        self.residual = nn.Sequential(self._make_layer(64, 64, 2, first_block=True),\n",
    "                        self._make_layer(64, 128, 2),\n",
    "                        self._make_layer(128, 256, 2),\n",
    "                        self._make_layer(256, 512, 2))\n",
    "\n",
    "        self.oupt = nn.Sequential(nn.AdaptiveAvgPool2d((1, 1)),\n",
    "                                  nn.Flatten(), nn.Linear(512, classes))\n",
    "\n",
    "\n",
    "    def _make_layer(self, inpt_chann, oupt_chann, block_nums, first_block=False):\n",
    "        blk = []\n",
    "        for i in range(block_nums):\n",
    "            if i == 0 and not first_block:\n",
    "                blk.append(block(inpt_chann, oupt_chann, strides=2, conv1ks=True))\n",
    "            else:\n",
    "                blk.append(block(oupt_chann, oupt_chann))\n",
    "        return nn.Sequential(*blk)\n",
    "\n",
    "    def forward(self, x):\n",
    "        h1 = self.inpt(x)\n",
    "        res = self.residual(h1)\n",
    "        fc = self.oupt(res)\n",
    "        return fc"
   ]
  },
  {
   "cell_type": "code",
   "execution_count": 6,
   "metadata": {},
   "outputs": [],
   "source": [
    "net = resnet(3, 10)"
   ]
  },
  {
   "cell_type": "code",
   "execution_count": 7,
   "metadata": {},
   "outputs": [
    {
     "name": "stdout",
     "output_type": "stream",
     "text": [
      "----------------------------------------------------------------\n        Layer (type)               Output Shape         Param #\n================================================================\n            Conv2d-1         [-1, 64, 112, 112]           9,408\n       BatchNorm2d-2         [-1, 64, 112, 112]             128\n              ReLU-3         [-1, 64, 112, 112]               0\n         MaxPool2d-4           [-1, 64, 56, 56]               0\n            Conv2d-5           [-1, 64, 56, 56]          36,864\n       BatchNorm2d-6           [-1, 64, 56, 56]             128\n              ReLU-7           [-1, 64, 56, 56]               0\n            Conv2d-8           [-1, 64, 56, 56]          36,864\n       BatchNorm2d-9           [-1, 64, 56, 56]             128\n             ReLU-10           [-1, 64, 56, 56]               0\n       BasicBlock-11           [-1, 64, 56, 56]               0\n           Conv2d-12           [-1, 64, 56, 56]          36,864\n      BatchNorm2d-13           [-1, 64, 56, 56]             128\n             ReLU-14           [-1, 64, 56, 56]               0\n           Conv2d-15           [-1, 64, 56, 56]          36,864\n      BatchNorm2d-16           [-1, 64, 56, 56]             128\n             ReLU-17           [-1, 64, 56, 56]               0\n       BasicBlock-18           [-1, 64, 56, 56]               0\n           Conv2d-19          [-1, 128, 28, 28]          73,728\n      BatchNorm2d-20          [-1, 128, 28, 28]             256\n             ReLU-21          [-1, 128, 28, 28]               0\n           Conv2d-22          [-1, 128, 28, 28]         147,456\n      BatchNorm2d-23          [-1, 128, 28, 28]             256\n           Conv2d-24          [-1, 128, 28, 28]           8,192\n      BatchNorm2d-25          [-1, 128, 28, 28]             256\n             ReLU-26          [-1, 128, 28, 28]               0\n       BasicBlock-27          [-1, 128, 28, 28]               0\n           Conv2d-28          [-1, 128, 28, 28]         147,456\n      BatchNorm2d-29          [-1, 128, 28, 28]             256\n             ReLU-30          [-1, 128, 28, 28]               0\n           Conv2d-31          [-1, 128, 28, 28]         147,456\n      BatchNorm2d-32          [-1, 128, 28, 28]             256\n             ReLU-33          [-1, 128, 28, 28]               0\n       BasicBlock-34          [-1, 128, 28, 28]               0\n           Conv2d-35          [-1, 256, 14, 14]         294,912\n      BatchNorm2d-36          [-1, 256, 14, 14]             512\n             ReLU-37          [-1, 256, 14, 14]               0\n           Conv2d-38          [-1, 256, 14, 14]         589,824\n      BatchNorm2d-39          [-1, 256, 14, 14]             512\n           Conv2d-40          [-1, 256, 14, 14]          32,768\n      BatchNorm2d-41          [-1, 256, 14, 14]             512\n             ReLU-42          [-1, 256, 14, 14]               0\n       BasicBlock-43          [-1, 256, 14, 14]               0\n           Conv2d-44          [-1, 256, 14, 14]         589,824\n      BatchNorm2d-45          [-1, 256, 14, 14]             512\n             ReLU-46          [-1, 256, 14, 14]               0\n           Conv2d-47          [-1, 256, 14, 14]         589,824\n      BatchNorm2d-48          [-1, 256, 14, 14]             512\n             ReLU-49          [-1, 256, 14, 14]               0\n       BasicBlock-50          [-1, 256, 14, 14]               0\n           Conv2d-51            [-1, 512, 7, 7]       1,179,648\n      BatchNorm2d-52            [-1, 512, 7, 7]           1,024\n             ReLU-53            [-1, 512, 7, 7]               0\n           Conv2d-54            [-1, 512, 7, 7]       2,359,296\n      BatchNorm2d-55            [-1, 512, 7, 7]           1,024\n           Conv2d-56            [-1, 512, 7, 7]         131,072\n      BatchNorm2d-57            [-1, 512, 7, 7]           1,024\n             ReLU-58            [-1, 512, 7, 7]               0\n       BasicBlock-59            [-1, 512, 7, 7]               0\n           Conv2d-60            [-1, 512, 7, 7]       2,359,296\n      BatchNorm2d-61            [-1, 512, 7, 7]           1,024\n             ReLU-62            [-1, 512, 7, 7]               0\n           Conv2d-63            [-1, 512, 7, 7]       2,359,296\n      BatchNorm2d-64            [-1, 512, 7, 7]           1,024\n             ReLU-65            [-1, 512, 7, 7]               0\n       BasicBlock-66            [-1, 512, 7, 7]               0\nAdaptiveAvgPool2d-67            [-1, 512, 1, 1]               0\n           Linear-68                 [-1, 1000]         513,000\n================================================================\nTotal params: 11,689,512\nTrainable params: 11,689,512\nNon-trainable params: 0\n----------------------------------------------------------------\nInput size (MB): 0.57\nForward/backward pass size (MB): 62.79\nParams size (MB): 44.59\nEstimated Total Size (MB): 107.96\n----------------------------------------------------------------\n"
     ]
    }
   ],
   "source": [
    "from torchsummary import summary\n",
    "device = torch.device('cuda' if torch.cuda.is_available() else 'cpu')\n",
    "net.cuda()\n",
    "summary(net, (3, 224, 224))"
   ]
  },
  {
   "cell_type": "code",
   "execution_count": 4,
   "metadata": {},
   "outputs": [
    {
     "name": "stdout",
     "output_type": "stream",
     "text": [
      "----------------------------------------------------------------\n        Layer (type)               Output Shape         Param #\n================================================================\n            Conv2d-1         [-1, 64, 112, 112]           9,472\n       BatchNorm2d-2         [-1, 64, 112, 112]             128\n              ReLU-3         [-1, 64, 112, 112]               0\n         MaxPool2d-4           [-1, 64, 56, 56]               0\n            Conv2d-5           [-1, 64, 56, 56]          36,928\n       BatchNorm2d-6           [-1, 64, 56, 56]             128\n              ReLU-7           [-1, 64, 56, 56]               0\n            Conv2d-8           [-1, 64, 56, 56]          36,928\n       BatchNorm2d-9           [-1, 64, 56, 56]             128\n            block-10           [-1, 64, 56, 56]               0\n           Conv2d-11           [-1, 64, 56, 56]          36,928\n      BatchNorm2d-12           [-1, 64, 56, 56]             128\n             ReLU-13           [-1, 64, 56, 56]               0\n           Conv2d-14           [-1, 64, 56, 56]          36,928\n      BatchNorm2d-15           [-1, 64, 56, 56]             128\n            block-16           [-1, 64, 56, 56]               0\n           Conv2d-17          [-1, 128, 28, 28]           8,320\n           Conv2d-18          [-1, 128, 28, 28]          73,856\n      BatchNorm2d-19          [-1, 128, 28, 28]             256\n             ReLU-20          [-1, 128, 28, 28]               0\n           Conv2d-21          [-1, 128, 28, 28]         147,584\n      BatchNorm2d-22          [-1, 128, 28, 28]             256\n            block-23          [-1, 128, 28, 28]               0\n           Conv2d-24          [-1, 128, 28, 28]         147,584\n      BatchNorm2d-25          [-1, 128, 28, 28]             256\n             ReLU-26          [-1, 128, 28, 28]               0\n           Conv2d-27          [-1, 128, 28, 28]         147,584\n      BatchNorm2d-28          [-1, 128, 28, 28]             256\n            block-29          [-1, 128, 28, 28]               0\n           Conv2d-30          [-1, 256, 14, 14]          33,024\n           Conv2d-31          [-1, 256, 14, 14]         295,168\n      BatchNorm2d-32          [-1, 256, 14, 14]             512\n             ReLU-33          [-1, 256, 14, 14]               0\n           Conv2d-34          [-1, 256, 14, 14]         590,080\n      BatchNorm2d-35          [-1, 256, 14, 14]             512\n            block-36          [-1, 256, 14, 14]               0\n           Conv2d-37          [-1, 256, 14, 14]         590,080\n      BatchNorm2d-38          [-1, 256, 14, 14]             512\n             ReLU-39          [-1, 256, 14, 14]               0\n           Conv2d-40          [-1, 256, 14, 14]         590,080\n      BatchNorm2d-41          [-1, 256, 14, 14]             512\n            block-42          [-1, 256, 14, 14]               0\n           Conv2d-43            [-1, 512, 7, 7]         131,584\n           Conv2d-44            [-1, 512, 7, 7]       1,180,160\n      BatchNorm2d-45            [-1, 512, 7, 7]           1,024\n             ReLU-46            [-1, 512, 7, 7]               0\n           Conv2d-47            [-1, 512, 7, 7]       2,359,808\n      BatchNorm2d-48            [-1, 512, 7, 7]           1,024\n            block-49            [-1, 512, 7, 7]               0\n           Conv2d-50            [-1, 512, 7, 7]       2,359,808\n      BatchNorm2d-51            [-1, 512, 7, 7]           1,024\n             ReLU-52            [-1, 512, 7, 7]               0\n           Conv2d-53            [-1, 512, 7, 7]       2,359,808\n      BatchNorm2d-54            [-1, 512, 7, 7]           1,024\n            block-55            [-1, 512, 7, 7]               0\nAdaptiveAvgPool2d-56            [-1, 512, 1, 1]               0\n          Flatten-57                  [-1, 512]               0\n           Linear-58                   [-1, 10]           5,130\n================================================================\nTotal params: 11,184,650\nTrainable params: 11,184,650\nNon-trainable params: 0\n----------------------------------------------------------------\nInput size (MB): 0.57\nForward/backward pass size (MB): 55.71\nParams size (MB): 42.67\nEstimated Total Size (MB): 98.95\n----------------------------------------------------------------\n"
     ]
    }
   ],
   "source": [
    "from torchsummary import summary\n",
    "device = torch.device('cuda' if torch.cuda.is_available() else 'cpu')\n",
    "net.cuda()\n",
    "summary(net, (3, 224, 224))"
   ]
  },
  {
   "cell_type": "code",
   "execution_count": 3,
   "metadata": {},
   "outputs": [],
   "source": [
    "## data processing\n",
    "labels_dataframe = pd.read_csv('./classify-leaves/train.csv')\n",
    "# test_set = pd.read_csv('./classify-leaves/test.csv')"
   ]
  },
  {
   "cell_type": "code",
   "execution_count": 4,
   "metadata": {},
   "outputs": [
    {
     "name": "stdout",
     "output_type": "stream",
     "text": [
      "176\n"
     ]
    }
   ],
   "source": [
    "leaves_labels = sorted(list(set(labels_dataframe['label'])))\n",
    "n_classes = len(leaves_labels)\n",
    "print(n_classes)\n",
    "# leaves_labels"
   ]
  },
  {
   "cell_type": "code",
   "execution_count": 11,
   "metadata": {},
   "outputs": [],
   "source": [
    "num_label_dict = dict(zip(leaves_labels, range(n_classes)))"
   ]
  },
  {
   "cell_type": "code",
   "execution_count": 26,
   "metadata": {},
   "outputs": [],
   "source": [
    "num_label_dict.values()\n",
    "transform_to_str = dict()\n",
    "for i, key in enumerate(num_label_dict.keys()):\n",
    "    transform_to_str[i] = key"
   ]
  },
  {
   "cell_type": "code",
   "execution_count": null,
   "metadata": {},
   "outputs": [],
   "source": [
    ""
   ]
  },
  {
   "cell_type": "code",
   "execution_count": 5,
   "metadata": {
    "collapsed": true
   },
   "outputs": [
    {
     "ename": "NameError",
     "evalue": "name 'num_label_dict' is not defined",
     "traceback": [
      "\u001b[1;31m---------------------------------------------------------------------------\u001b[0m",
      "\u001b[1;31mNameError\u001b[0m                                 Traceback (most recent call last)",
      "\u001b[1;32m<ipython-input-5-26c7a47218d6>\u001b[0m in \u001b[0;36m<module>\u001b[1;34m\u001b[0m\n\u001b[1;32m----> 1\u001b[1;33m \u001b[0mlabels_dataframe\u001b[0m\u001b[1;33m[\u001b[0m\u001b[1;34m\"label\"\u001b[0m\u001b[1;33m]\u001b[0m \u001b[1;33m=\u001b[0m \u001b[0mlabels_dataframe\u001b[0m\u001b[1;33m[\u001b[0m\u001b[1;34m\"label\"\u001b[0m\u001b[1;33m]\u001b[0m\u001b[1;33m.\u001b[0m\u001b[0mapply\u001b[0m\u001b[1;33m(\u001b[0m\u001b[1;32mlambda\u001b[0m \u001b[0mrow\u001b[0m\u001b[1;33m:\u001b[0m \u001b[0mnum_label_dict\u001b[0m\u001b[1;33m[\u001b[0m\u001b[0mrow\u001b[0m\u001b[1;33m]\u001b[0m\u001b[1;33m)\u001b[0m\u001b[1;33m\u001b[0m\u001b[1;33m\u001b[0m\u001b[0m\n\u001b[0m",
      "\u001b[1;32mD:\\Applications\\Anaconda\\anaconda\\lib\\site-packages\\pandas\\core\\series.py\u001b[0m in \u001b[0;36mapply\u001b[1;34m(self, func, convert_dtype, args, **kwargs)\u001b[0m\n\u001b[0;32m   4354\u001b[0m         \u001b[0mdtype\u001b[0m\u001b[1;33m:\u001b[0m \u001b[0mfloat64\u001b[0m\u001b[1;33m\u001b[0m\u001b[1;33m\u001b[0m\u001b[0m\n\u001b[0;32m   4355\u001b[0m         \"\"\"\n\u001b[1;32m-> 4356\u001b[1;33m         \u001b[1;32mreturn\u001b[0m \u001b[0mSeriesApply\u001b[0m\u001b[1;33m(\u001b[0m\u001b[0mself\u001b[0m\u001b[1;33m,\u001b[0m \u001b[0mfunc\u001b[0m\u001b[1;33m,\u001b[0m \u001b[0mconvert_dtype\u001b[0m\u001b[1;33m,\u001b[0m \u001b[0margs\u001b[0m\u001b[1;33m,\u001b[0m \u001b[0mkwargs\u001b[0m\u001b[1;33m)\u001b[0m\u001b[1;33m.\u001b[0m\u001b[0mapply\u001b[0m\u001b[1;33m(\u001b[0m\u001b[1;33m)\u001b[0m\u001b[1;33m\u001b[0m\u001b[1;33m\u001b[0m\u001b[0m\n\u001b[0m\u001b[0;32m   4357\u001b[0m \u001b[1;33m\u001b[0m\u001b[0m\n\u001b[0;32m   4358\u001b[0m     def _reduce(\n",
      "\u001b[1;32mD:\\Applications\\Anaconda\\anaconda\\lib\\site-packages\\pandas\\core\\apply.py\u001b[0m in \u001b[0;36mapply\u001b[1;34m(self)\u001b[0m\n\u001b[0;32m   1034\u001b[0m             \u001b[1;32mreturn\u001b[0m \u001b[0mself\u001b[0m\u001b[1;33m.\u001b[0m\u001b[0mapply_str\u001b[0m\u001b[1;33m(\u001b[0m\u001b[1;33m)\u001b[0m\u001b[1;33m\u001b[0m\u001b[1;33m\u001b[0m\u001b[0m\n\u001b[0;32m   1035\u001b[0m \u001b[1;33m\u001b[0m\u001b[0m\n\u001b[1;32m-> 1036\u001b[1;33m         \u001b[1;32mreturn\u001b[0m \u001b[0mself\u001b[0m\u001b[1;33m.\u001b[0m\u001b[0mapply_standard\u001b[0m\u001b[1;33m(\u001b[0m\u001b[1;33m)\u001b[0m\u001b[1;33m\u001b[0m\u001b[1;33m\u001b[0m\u001b[0m\n\u001b[0m\u001b[0;32m   1037\u001b[0m \u001b[1;33m\u001b[0m\u001b[0m\n\u001b[0;32m   1038\u001b[0m     \u001b[1;32mdef\u001b[0m \u001b[0magg\u001b[0m\u001b[1;33m(\u001b[0m\u001b[0mself\u001b[0m\u001b[1;33m)\u001b[0m\u001b[1;33m:\u001b[0m\u001b[1;33m\u001b[0m\u001b[1;33m\u001b[0m\u001b[0m\n",
      "\u001b[1;32mD:\\Applications\\Anaconda\\anaconda\\lib\\site-packages\\pandas\\core\\apply.py\u001b[0m in \u001b[0;36mapply_standard\u001b[1;34m(self)\u001b[0m\n\u001b[0;32m   1093\u001b[0m                     \u001b[0mvalues\u001b[0m\u001b[1;33m,\u001b[0m\u001b[1;33m\u001b[0m\u001b[1;33m\u001b[0m\u001b[0m\n\u001b[0;32m   1094\u001b[0m                     \u001b[0mf\u001b[0m\u001b[1;33m,\u001b[0m  \u001b[1;31m# type: ignore[arg-type]\u001b[0m\u001b[1;33m\u001b[0m\u001b[1;33m\u001b[0m\u001b[0m\n\u001b[1;32m-> 1095\u001b[1;33m                     \u001b[0mconvert\u001b[0m\u001b[1;33m=\u001b[0m\u001b[0mself\u001b[0m\u001b[1;33m.\u001b[0m\u001b[0mconvert_dtype\u001b[0m\u001b[1;33m,\u001b[0m\u001b[1;33m\u001b[0m\u001b[1;33m\u001b[0m\u001b[0m\n\u001b[0m\u001b[0;32m   1096\u001b[0m                 )\n\u001b[0;32m   1097\u001b[0m \u001b[1;33m\u001b[0m\u001b[0m\n",
      "\u001b[1;32mD:\\Applications\\Anaconda\\anaconda\\lib\\site-packages\\pandas\\_libs\\lib.pyx\u001b[0m in \u001b[0;36mpandas._libs.lib.map_infer\u001b[1;34m()\u001b[0m\n",
      "\u001b[1;32m<ipython-input-5-26c7a47218d6>\u001b[0m in \u001b[0;36m<lambda>\u001b[1;34m(row)\u001b[0m\n\u001b[1;32m----> 1\u001b[1;33m \u001b[0mlabels_dataframe\u001b[0m\u001b[1;33m[\u001b[0m\u001b[1;34m\"label\"\u001b[0m\u001b[1;33m]\u001b[0m \u001b[1;33m=\u001b[0m \u001b[0mlabels_dataframe\u001b[0m\u001b[1;33m[\u001b[0m\u001b[1;34m\"label\"\u001b[0m\u001b[1;33m]\u001b[0m\u001b[1;33m.\u001b[0m\u001b[0mapply\u001b[0m\u001b[1;33m(\u001b[0m\u001b[1;32mlambda\u001b[0m \u001b[0mrow\u001b[0m\u001b[1;33m:\u001b[0m \u001b[0mnum_label_dict\u001b[0m\u001b[1;33m[\u001b[0m\u001b[0mrow\u001b[0m\u001b[1;33m]\u001b[0m\u001b[1;33m)\u001b[0m\u001b[1;33m\u001b[0m\u001b[1;33m\u001b[0m\u001b[0m\n\u001b[0m",
      "\u001b[1;31mNameError\u001b[0m: name 'num_label_dict' is not defined"
     ],
     "output_type": "error"
    }
   ],
   "source": [
    "labels_dataframe[\"label\"] = labels_dataframe[\"label\"].apply(lambda row: num_label_dict[row])"
   ]
  },
  {
   "cell_type": "code",
   "execution_count": 34,
   "metadata": {},
   "outputs": [],
   "source": [
    "labels_dataframe.to_csv(\"./classify-leaves/processed_data.csv\")"
   ]
  },
  {
   "cell_type": "code",
   "execution_count": 57,
   "metadata": {},
   "outputs": [],
   "source": [
    "###Define dataset\n",
    "from torch.utils.data import Dataset, DataLoader\n",
    "from torchvision import transforms, utils\n",
    "from PIL import Image\n",
    "\n",
    "# normalize = transforms.Normalize(\n",
    "#     mean=[0.485, 0.456, 0.406],\n",
    "#     std=[0.229, 0.224, 0.225]\n",
    "# )\n",
    "preprocess = transforms.Compose([\n",
    "    #transforms.Scale(256),\n",
    "    #transforms.CenterCrop(224),\n",
    "    transforms.ToTensor(),\n",
    "    # normalize\n",
    "])\n",
    "\n",
    "augprocess = transforms.Compose([\n",
    "    transforms.ToTensor(),\n",
    "    # transforms.ToPILImage(),\n",
    "    # transforms.CenterCrop(10),\n",
    "    transforms.RandomHorizontalFlip(),  # 随机水平翻转 选择一个概率\n",
    "    transforms.RandomVerticalFlip(),  # 随机水平翻转 选择一个概率\n",
    "    transforms.RandomErasing(),\n",
    "])\n",
    "\n",
    "augprocess2 = transforms.Compose([\n",
    "    transforms.ToTensor(),\n",
    "    # transforms.ToPILImage(),\n",
    "    transforms.CenterCrop(112),\n",
    "    # transforms.RandomHorizontalFlip(),  # 随机水平翻转 选择一个概率\n",
    "    # transforms.RandomVerticalFlip(),  # 随机水平翻转 选择一个概率\n",
    "    # transforms.RandomErasing(),\n",
    "])\n",
    "\n",
    "\n",
    "def augment_loader2(path):\n",
    "    img_pil = Image.open(path)\n",
    "    img_pil = img_pil.resize((224, 224))\n",
    "    img_tensor = augprocess2(img_pil)\n",
    "    return img_tensor\n",
    "\n",
    "def augment_loader(path):\n",
    "    img_pil = Image.open(path)\n",
    "    img_pil = img_pil.resize((224, 224))\n",
    "    img_tensor = augprocess(img_pil)\n",
    "    return img_tensor\n",
    "\n",
    "def default_loader(path):\n",
    "    img_pil =  Image.open(path)\n",
    "    img_pil = img_pil.resize((224,224))\n",
    "    img_tensor = preprocess(img_pil)\n",
    "    return img_tensor\n",
    "\n",
    "\n",
    "class trainset(Dataset):\n",
    "    def __init__(self, loader=default_loader, val_ratio=0.3, train=True, val=False):\n",
    "        #定义好 image 的路径\n",
    "        data = pd.read_csv(\"./classify-leaves/processed_data.csv\")\n",
    "        idx = int(len(data)*(1 - 0.3))\n",
    "        if train:\n",
    "            self.images_path = data[\"image\"][0:idx].values\n",
    "            self.label = data[\"label\"][0:idx].values\n",
    "        elif val:\n",
    "            self.images_path = data[\"image\"][idx:].values\n",
    "            self.label = data[\"label\"][idx:].values\n",
    "        self.loader = loader\n",
    "\n",
    "    def __getitem__(self, index):\n",
    "        path = self.images_path[index]\n",
    "        img = self.loader(\"./classify-leaves/\" + path)\n",
    "        label= self.label[index]\n",
    "        return img, label\n",
    "        \n",
    "    \n",
    "    def __len__(self):\n",
    "       \n",
    "        return len(self.label)"
   ]
  },
  {
   "cell_type": "code",
   "execution_count": 58,
   "metadata": {},
   "outputs": [],
   "source": [
    "train_data  = trainset()\n",
    "train_data2  = trainset(loader=augment_loader)\n",
    "train_data3  = trainset(loader=augment_loader2)\n",
    "# val_data = trainset(train=False, val=True)\n",
    "trainloader = DataLoader(train_data, batch_size=5,shuffle=False)\n",
    "trainloader2 = DataLoader(train_data2, batch_size=5,shuffle=False)\n",
    "trainloader3 =  DataLoader(train_data3, batch_size=5,shuffle=False)\n",
    "# valloader = DataLoader(val_data, batch_size=5,shuffle=True)"
   ]
  },
  {
   "cell_type": "code",
   "execution_count": 59,
   "metadata": {},
   "outputs": [],
   "source": [
    "dataiter1  = iter(trainloader)\n",
    "dataiter2 = iter(trainloader2)\n",
    "dataiter3 = iter(trainloader3)\n",
    "a, b = dataiter1.next()\n",
    "aa, _ = dataiter2.next()\n",
    "aaa, _ = dataiter3.next()"
   ]
  },
  {
   "cell_type": "code",
   "execution_count": null,
   "metadata": {},
   "outputs": [],
   "source": [
    "import matplotlib\n",
    "import matplotlib.pyplot as plt"
   ]
  },
  {
   "cell_type": "code",
   "execution_count": 73,
   "metadata": {},
   "outputs": [
    {
     "name": "stderr",
     "output_type": "stream",
     "text": [
      "D:\\Applications\\Anaconda\\anaconda\\lib\\site-packages\\ipykernel_launcher.py:20: UserWarning: Matplotlib is currently using agg, which is a non-GUI backend, so cannot show the figure.\n"
     ]
    },
    {
     "data": {
      "image/png": "[encoded data removed]",
      "text/plain": [
       "<Figure size 720x720 with 15 Axes>"
      ]
     },
     "metadata": {},
     "output_type": "display_data"
    }
   ],
   "source": [
    "# plt = plt.gcf()\n",
    "plt.rcParams[\"figure.figsize\"] = (10,10)\n",
    "for i in range(1, 16):\n",
    "    if i < 5:\n",
    "        plt.subplot(3, 5, i)\n",
    "        plt.imshow(a[i - 1].permute(1,2,0)) # 显示图片\n",
    "        plt.axis('off') # 不显示坐标轴\n",
    "    elif i < 10:\n",
    "        plt.subplot(3, 5, i)\n",
    "        plt.imshow(aa[i-5 - 1].permute(1,2,0)) # 显示图片\n",
    "        plt.axis('off') # 不显示坐标轴\n",
    "    else:\n",
    "        plt.subplot(3, 5, i)\n",
    "        plt.imshow(aaa[i-10 - 1].permute(1,2,0)) # 显示图片\n",
    "        plt.axis('off') # 不显示坐标轴\n",
    "    \n",
    "# plt.set_size_inches(18.5, 10.5)\n",
    "plt.savefig('./fig/vis.png', dpi=100)        \n",
    "# plt.savefig(fname=\"./fig/vis.png\")   \n",
    "plt.show()"
   ]
  },
  {
   "cell_type": "code",
   "execution_count": 65,
   "metadata": {},
   "outputs": [
    {
     "data": {
      "text/plain": [
       "<Figure size 432x288 with 0 Axes>"
      ]
     },
     "execution_count": 0,
     "metadata": {},
     "output_type": "execute_result"
    }
   ],
   "source": [
    "plt.savefig(fname=\"./fig/aug.png\",format=\"pdf\")"
   ]
  },
  {
   "cell_type": "code",
   "execution_count": 74,
   "metadata": {},
   "outputs": [],
   "source": [
    "net = resnet(3, 176)"
   ]
  },
  {
   "cell_type": "code",
   "execution_count": 47,
   "metadata": {},
   "outputs": [],
   "source": [
    "data = pd.read_csv(\"./classify-leaves/processed_data.csv\")\n",
    "idx = int(len(data)*(1 - 0.3))\n",
    "images_path = data[\"image\"][idx:]\n",
    "label = data[\"label\"][idx:]"
   ]
  },
  {
   "cell_type": "code",
   "execution_count": 5,
   "metadata": {},
   "outputs": [],
   "source": [
    "learning_rate = 3e-4\n",
    "wd = 1e-3\n",
    "n_classes = 176"
   ]
  },
  {
   "cell_type": "code",
   "execution_count": 9,
   "metadata": {
    "collapsed": true
   },
   "outputs": [
    {
     "name": "stdout",
     "output_type": "stream",
     "text": [
      "Training Loss:5.98, Epoch:0/1//Training Loss:5.59, Epoch:0/1//Training Loss:5.52, Epoch:0/1//Training Loss:5.49, Epoch:0/1//Training Loss:5.40, Epoch:0/1//"
     ]
    },
    {
     "name": "stdout",
     "output_type": "stream",
     "text": [
      "Training Loss:5.46, Epoch:0/1//Training Loss:5.35, Epoch:0/1//Training Loss:5.33, Epoch:0/1//Training Loss:5.26, Epoch:0/1//Training Loss:5.34, Epoch:0/1"
     ]
    },
    {
     "name": "stdout",
     "output_type": "stream",
     "text": [
      "//Training Loss:5.39, Epoch:0/1//Training Loss:5.37, Epoch:0/1//Training Loss:5.45, Epoch:0/1//"
     ]
    },
    {
     "name": "stdout",
     "output_type": "stream",
     "text": [
      "Training Loss:5.57, Epoch:0/1//Training Loss:5.50, Epoch:0/1//Training Loss:5.46, Epoch:0/1//"
     ]
    },
    {
     "name": "stdout",
     "output_type": "stream",
     "text": [
      "Training Loss:5.36, Epoch:0/1//Training Loss:5.41, Epoch:0/1//Training Loss:5.36, Epoch:0/1//Training Loss:5.41, Epoch:0/1"
     ]
    },
    {
     "name": "stdout",
     "output_type": "stream",
     "text": [
      "//Training Loss:5.45, Epoch:0/1//Training Loss:5.51, Epoch:0/1//"
     ]
    },
    {
     "name": "stdout",
     "output_type": "stream",
     "text": [
      "Training Loss:5.48, Epoch:0/1//Training Loss:5.50, Epoch:0/1//Training Loss:5.53, Epoch:0/1//"
     ]
    },
    {
     "name": "stdout",
     "output_type": "stream",
     "text": [
      "Training Loss:5.58, Epoch:0/1//Training Loss:5.61, Epoch:0/1//Training Loss:5.65, Epoch:0/1//"
     ]
    },
    {
     "name": "stdout",
     "output_type": "stream",
     "text": [
      "Training Loss:5.64, Epoch:0/1//Training Loss:5.68, Epoch:0/1//Training Loss:5.69, Epoch:0/1"
     ]
    },
    {
     "name": "stdout",
     "output_type": "stream",
     "text": [
      "//Training Loss:5.70, Epoch:0/1//Training Loss:5.70, Epoch:0/1//Training Loss:5.69, Epoch:0/1//Training Loss:5.71, Epoch:0/1"
     ]
    },
    {
     "name": "stdout",
     "output_type": "stream",
     "text": [
      "//Training Loss:5.73, Epoch:0/1//Training Loss:5.71, Epoch:0/1//Training Loss:5.73, Epoch:0/1//Training Loss:5.76, Epoch:0/1//Training Loss:5.75, Epoch:0/1"
     ]
    },
    {
     "name": "stdout",
     "output_type": "stream",
     "text": [
      "//Training Loss:5.76, Epoch:0/1//Training Loss:5.72, Epoch:0/1//Training Loss:5.72, Epoch:0/1//Training Loss:5.73, Epoch:0/1//Training Loss:5.75, Epoch:0/1"
     ]
    },
    {
     "name": "stdout",
     "output_type": "stream",
     "text": [
      "//Training Loss:5.76, Epoch:0/1//Training Loss:5.75, Epoch:0/1//Training Loss:5.75, Epoch:0/1//Training Loss:5.75, Epoch:0/1//Training Loss:5.76, Epoch:0/1"
     ]
    },
    {
     "name": "stdout",
     "output_type": "stream",
     "text": [
      "//Training Loss:5.74, Epoch:0/1//Training Loss:5.74, Epoch:0/1//Training Loss:5.73, Epoch:0/1//Training Loss:5.71, Epoch:0/1//"
     ]
    },
    {
     "name": "stdout",
     "output_type": "stream",
     "text": [
      "Training Loss:5.73, Epoch:0/1//Training Loss:5.75, Epoch:0/1//Training Loss:5.74, Epoch:0/1//Training Loss:5.75, Epoch:0/1//Training Loss:5.74, Epoch:0/1//"
     ]
    },
    {
     "name": "stdout",
     "output_type": "stream",
     "text": [
      "Training Loss:5.74, Epoch:0/1//Training Loss:5.76, Epoch:0/1//Training Loss:5.77, Epoch:0/1//Training Loss:5.78, Epoch:0/1//Training Loss:5.78, Epoch:0/1//Training Loss:5.78, Epoch:0/1"
     ]
    },
    {
     "name": "stdout",
     "output_type": "stream",
     "text": [
      "//Training Loss:5.76, Epoch:0/1//Training Loss:5.78, Epoch:0/1//Training Loss:5.77, Epoch:0/1//Training Loss:5.75, Epoch:0/1//Training Loss:5.76, Epoch:0/1"
     ]
    },
    {
     "name": "stdout",
     "output_type": "stream",
     "text": [
      "//Training Loss:5.76, Epoch:0/1//Training Loss:5.76, Epoch:0/1//Training Loss:5.75, Epoch:0/1//Training Loss:5.75, Epoch:0/1//Training Loss:5.75, Epoch:0/1"
     ]
    },
    {
     "name": "stdout",
     "output_type": "stream",
     "text": [
      "//Training Loss:5.76, Epoch:0/1//Training Loss:5.77, Epoch:0/1//Training Loss:5.77, Epoch:0/1//Training Loss:5.77, Epoch:0/1//Training Loss:5.75, Epoch:0/1"
     ]
    },
    {
     "name": "stdout",
     "output_type": "stream",
     "text": [
      "//Training Loss:5.75, Epoch:0/1//Training Loss:5.74, Epoch:0/1//Training Loss:5.73, Epoch:0/1//Training Loss:5.71, Epoch:0/1//Training Loss:5.72, Epoch:0/1"
     ]
    },
    {
     "name": "stdout",
     "output_type": "stream",
     "text": [
      "//Training Loss:5.72, Epoch:0/1//Training Loss:5.73, Epoch:0/1//Training Loss:5.73, Epoch:0/1//"
     ]
    },
    {
     "name": "stdout",
     "output_type": "stream",
     "text": [
      "Training Loss:5.72, Epoch:0/1//Training Loss:5.73, Epoch:0/1//Training Loss:5.71, Epoch:0/1//Training Loss:5.72, Epoch:0/1//Training Loss:5.71, Epoch:0/1//Training Loss:5.72, Epoch:0/1"
     ]
    },
    {
     "name": "stdout",
     "output_type": "stream",
     "text": [
      "//Training Loss:5.73, Epoch:0/1//Training Loss:5.73, Epoch:0/1//Training Loss:5.73, Epoch:0/1//Training Loss:5.73, Epoch:0/1//Training Loss:5.72, Epoch:0/1"
     ]
    },
    {
     "name": "stdout",
     "output_type": "stream",
     "text": [
      "//Training Loss:5.73, Epoch:0/1//Training Loss:5.71, Epoch:0/1//Training Loss:5.72, Epoch:0/1//Training Loss:5.72, Epoch:0/1//Training Loss:5.71, Epoch:0/1"
     ]
    },
    {
     "name": "stdout",
     "output_type": "stream",
     "text": [
      "//Training Loss:5.71, Epoch:0/1//Training Loss:5.72, Epoch:0/1//Training Loss:5.73, Epoch:0/1//Training Loss:5.74, Epoch:0/1//Training Loss:5.75, Epoch:0/1"
     ]
    },
    {
     "name": "stdout",
     "output_type": "stream",
     "text": [
      "//Training Loss:5.75, Epoch:0/1//Training Loss:5.74, Epoch:0/1//Training Loss:5.74, Epoch:0/1//Training Loss:5.74, Epoch:0/1//Training Loss:5.74, Epoch:0/1"
     ]
    },
    {
     "name": "stdout",
     "output_type": "stream",
     "text": [
      "//Training Loss:5.73, Epoch:0/1//Training Loss:5.73, Epoch:0/1//Training Loss:5.72, Epoch:0/1//Training Loss:5.72, Epoch:0/1//Training Loss:5.72, Epoch:0/1"
     ]
    },
    {
     "name": "stdout",
     "output_type": "stream",
     "text": [
      "//Training Loss:5.71, Epoch:0/1//Training Loss:5.72, Epoch:0/1//Training Loss:5.72, Epoch:0/1//Training Loss:5.71, Epoch:0/1//Training Loss:5.71, Epoch:0/1"
     ]
    },
    {
     "name": "stdout",
     "output_type": "stream",
     "text": [
      "//Training Loss:5.71, Epoch:0/1//Training Loss:5.71, Epoch:0/1//Training Loss:5.70, Epoch:0/1//Training Loss:5.70, Epoch:0/1//Training Loss:5.71, Epoch:0/1"
     ]
    },
    {
     "name": "stdout",
     "output_type": "stream",
     "text": [
      "//Training Loss:5.71, Epoch:0/1//Training Loss:5.70, Epoch:0/1//Training Loss:5.70, Epoch:0/1//Training Loss:5.70, Epoch:0/1//Training Loss:5.71, Epoch:0/1"
     ]
    },
    {
     "name": "stdout",
     "output_type": "stream",
     "text": [
      "//Training Loss:5.70, Epoch:0/1//Training Loss:5.70, Epoch:0/1//Training Loss:5.70, Epoch:0/1//Training Loss:5.69, Epoch:0/1//Training Loss:5.69, Epoch:0/1"
     ]
    },
    {
     "name": "stdout",
     "output_type": "stream",
     "text": [
      "//Training Loss:5.68, Epoch:0/1//Training Loss:5.68, Epoch:0/1//Training Loss:5.68, Epoch:0/1//Training Loss:5.67, Epoch:0/1//Training Loss:5.68, Epoch:0/1"
     ]
    },
    {
     "name": "stdout",
     "output_type": "stream",
     "text": [
      "//Training Loss:5.67, Epoch:0/1//Training Loss:5.68, Epoch:0/1//Training Loss:5.68, Epoch:0/1//Training Loss:5.67, Epoch:0/1//Training Loss:5.68, Epoch:0/1"
     ]
    },
    {
     "name": "stdout",
     "output_type": "stream",
     "text": [
      "//Training Loss:5.68, Epoch:0/1//Training Loss:5.67, Epoch:0/1//Training Loss:5.66, Epoch:0/1//Training Loss:5.66, Epoch:0/1//Training Loss:5.66, Epoch:0/1"
     ]
    },
    {
     "name": "stdout",
     "output_type": "stream",
     "text": [
      "//Training Loss:5.67, Epoch:0/1//Training Loss:5.67, Epoch:0/1//Training Loss:5.66, Epoch:0/1//Training Loss:5.65, Epoch:0/1//Training Loss:5.66, Epoch:0/1"
     ]
    },
    {
     "name": "stdout",
     "output_type": "stream",
     "text": [
      "//Training Loss:5.65, Epoch:0/1//Training Loss:5.65, Epoch:0/1//Training Loss:5.64, Epoch:0/1//Training Loss:5.64, Epoch:0/1//"
     ]
    },
    {
     "name": "stdout",
     "output_type": "stream",
     "text": [
      "Training Loss:5.64, Epoch:0/1//Training Loss:5.63, Epoch:0/1//Training Loss:5.64, Epoch:0/1//Training Loss:5.64, Epoch:0/1//Training Loss:5.64, Epoch:0/1//Training Loss:5.64, Epoch:0/1"
     ]
    },
    {
     "name": "stdout",
     "output_type": "stream",
     "text": [
      "//Training Loss:5.63, Epoch:0/1//Training Loss:5.63, Epoch:0/1//Training Loss:5.63, Epoch:0/1//Training Loss:5.62, Epoch:0/1//Training Loss:5.62, Epoch:0/1"
     ]
    },
    {
     "name": "stdout",
     "output_type": "stream",
     "text": [
      "//Training Loss:5.62, Epoch:0/1//Training Loss:5.61, Epoch:0/1//Training Loss:5.61, Epoch:0/1//Training Loss:5.61, Epoch:0/1//Training Loss:5.62, Epoch:0/1"
     ]
    },
    {
     "name": "stdout",
     "output_type": "stream",
     "text": [
      "//Training Loss:5.61, Epoch:0/1//Training Loss:5.61, Epoch:0/1//Training Loss:5.61, Epoch:0/1//Training Loss:5.60, Epoch:0/1//Training Loss:5.61, Epoch:0/1//"
     ]
    },
    {
     "name": "stdout",
     "output_type": "stream",
     "text": [
      "Training Loss:5.60, Epoch:0/1//Training Loss:5.60, Epoch:0/1//Training Loss:5.60, Epoch:0/1//Training Loss:5.59, Epoch:0/1//Training Loss:5.60, Epoch:0/1//Training Loss:5.59, Epoch:0/1"
     ]
    },
    {
     "name": "stdout",
     "output_type": "stream",
     "text": [
      "//Training Loss:5.59, Epoch:0/1//Training Loss:5.59, Epoch:0/1//Training Loss:5.58, Epoch:0/1//Training Loss:5.58, Epoch:0/1//Training Loss:5.58, Epoch:0/1//"
     ]
    },
    {
     "name": "stdout",
     "output_type": "stream",
     "text": [
      "Training Loss:5.58, Epoch:0/1//Training Loss:5.58, Epoch:0/1//Training Loss:5.58, Epoch:0/1//Training Loss:5.57, Epoch:0/1//Training Loss:5.57, Epoch:0/1//Training Loss:5.57, Epoch:0/1//"
     ]
    },
    {
     "name": "stdout",
     "output_type": "stream",
     "text": [
      "Training Loss:5.57, Epoch:0/1//Training Loss:5.57, Epoch:0/1//Training Loss:5.57, Epoch:0/1//Training Loss:5.56, Epoch:0/1//Training Loss:5.56, Epoch:0/1//Training Loss:5.56, Epoch:0/1"
     ]
    },
    {
     "name": "stdout",
     "output_type": "stream",
     "text": [
      "//Training Loss:5.56, Epoch:0/1//Training Loss:5.56, Epoch:0/1//Training Loss:5.56, Epoch:0/1//Training Loss:5.55, Epoch:0/1//Training Loss:5.55, Epoch:0/1//Training Loss:5.55, Epoch:0/1"
     ]
    },
    {
     "name": "stdout",
     "output_type": "stream",
     "text": [
      "//Training Loss:5.55, Epoch:0/1//Training Loss:5.55, Epoch:0/1//Training Loss:5.54, Epoch:0/1//Training Loss:5.55, Epoch:0/1//Training Loss:5.55, Epoch:0/1"
     ]
    },
    {
     "name": "stdout",
     "output_type": "stream",
     "text": [
      "//Training Loss:5.55, Epoch:0/1//Training Loss:5.55, Epoch:0/1//Training Loss:5.54, Epoch:0/1//Training Loss:5.54, Epoch:0/1//Training Loss:5.54, Epoch:0/1//Training Loss:5.53, Epoch:0/1//"
     ]
    },
    {
     "name": "stdout",
     "output_type": "stream",
     "text": [
      "Training Loss:5.53, Epoch:0/1//Training Loss:5.53, Epoch:0/1//Training Loss:5.53, Epoch:0/1//Training Loss:5.52, Epoch:0/1//Training Loss:5.52, Epoch:0/1//Training Loss:5.52, Epoch:0/1//Training Loss:5.52, Epoch:0/1"
     ]
    },
    {
     "name": "stdout",
     "output_type": "stream",
     "text": [
      "//Training Loss:5.52, Epoch:0/1//Training Loss:5.51, Epoch:0/1//Training Loss:5.51, Epoch:0/1//Training Loss:5.51, Epoch:0/1//Training Loss:5.51, Epoch:0/1//"
     ]
    },
    {
     "name": "stdout",
     "output_type": "stream",
     "text": [
      "Training Loss:5.52, Epoch:0/1//Training Loss:5.52, Epoch:0/1//Training Loss:5.52, Epoch:0/1//Training Loss:5.51, Epoch:0/1//Training Loss:5.51, Epoch:0/1//Training Loss:5.51, Epoch:0/1//Training Loss:5.51, Epoch:0/1//"
     ]
    },
    {
     "name": "stdout",
     "output_type": "stream",
     "text": [
      "Training Loss:5.51, Epoch:0/1//Training Loss:5.51, Epoch:0/1//Training Loss:5.51, Epoch:0/1//Training Loss:5.50, Epoch:0/1//Training Loss:5.50, Epoch:0/1//Training Loss:5.50, Epoch:0/1"
     ]
    },
    {
     "name": "stdout",
     "output_type": "stream",
     "text": [
      "//Training Loss:5.50, Epoch:0/1//Training Loss:5.50, Epoch:0/1//Training Loss:5.50, Epoch:0/1//Training Loss:5.49, Epoch:0/1//Training Loss:5.49, Epoch:0/1//"
     ]
    },
    {
     "name": "stdout",
     "output_type": "stream",
     "text": [
      "Training Loss:5.49, Epoch:0/1//Training Loss:5.49, Epoch:0/1//Training Loss:5.48, Epoch:0/1//Training Loss:5.48, Epoch:0/1//Training Loss:5.48, Epoch:0/1//Training Loss:5.48, Epoch:0/1//Training Loss:5.48, Epoch:0/1//"
     ]
    },
    {
     "name": "stdout",
     "output_type": "stream",
     "text": [
      "Training Loss:5.48, Epoch:0/1//Training Loss:5.48, Epoch:0/1//Training Loss:5.48, Epoch:0/1//Training Loss:5.48, Epoch:0/1//Training Loss:5.48, Epoch:0/1//Training Loss:5.48, Epoch:0/1"
     ]
    },
    {
     "name": "stdout",
     "output_type": "stream",
     "text": [
      "//Training Loss:5.48, Epoch:0/1//Training Loss:5.47, Epoch:0/1//Training Loss:5.48, Epoch:0/1//Training Loss:5.48, Epoch:0/1//Training Loss:5.47, Epoch:0/1//Training Loss:5.47, Epoch:0/1"
     ]
    },
    {
     "name": "stdout",
     "output_type": "stream",
     "text": [
      "//Training Loss:5.48, Epoch:0/1//Training Loss:5.48, Epoch:0/1//Training Loss:5.48, Epoch:0/1//Training Loss:5.48, Epoch:0/1//Training Loss:5.48, Epoch:0/1"
     ]
    },
    {
     "name": "stdout",
     "output_type": "stream",
     "text": [
      "//Training Loss:5.48, Epoch:0/1//Training Loss:5.48, Epoch:0/1//Training Loss:5.48, Epoch:0/1//Training Loss:5.47, Epoch:0/1//Training Loss:5.47, Epoch:0/1//"
     ]
    },
    {
     "name": "stdout",
     "output_type": "stream",
     "text": [
      "Training Loss:5.47, Epoch:0/1//Training Loss:5.47, Epoch:0/1//Training Loss:5.47, Epoch:0/1//Training Loss:5.47, Epoch:0/1//Training Loss:5.47, Epoch:0/1//Training Loss:5.47, Epoch:0/1//"
     ]
    },
    {
     "name": "stdout",
     "output_type": "stream",
     "text": [
      "Training Loss:5.47, Epoch:0/1//Training Loss:5.47, Epoch:0/1//Training Loss:5.47, Epoch:0/1//Training Loss:5.47, Epoch:0/1//Training Loss:5.47, Epoch:0/1//Training Loss:5.47, Epoch:0/1//Training Loss:5.47, Epoch:0/1"
     ]
    },
    {
     "name": "stdout",
     "output_type": "stream",
     "text": [
      "//Training Loss:5.47, Epoch:0/1//Training Loss:5.47, Epoch:0/1//Training Loss:5.47, Epoch:0/1//Training Loss:5.47, Epoch:0/1//Training Loss:5.46, Epoch:0/1//Training Loss:5.46, Epoch:0/1"
     ]
    },
    {
     "name": "stdout",
     "output_type": "stream",
     "text": [
      "//Training Loss:5.46, Epoch:0/1//Training Loss:5.46, Epoch:0/1//Training Loss:5.46, Epoch:0/1//Training Loss:5.46, Epoch:0/1//Training Loss:5.46, Epoch:0/1//"
     ]
    },
    {
     "name": "stdout",
     "output_type": "stream",
     "text": [
      "Training Loss:5.46, Epoch:0/1//Training Loss:5.46, Epoch:0/1//Training Loss:5.46, Epoch:0/1//Training Loss:5.45, Epoch:0/1//Training Loss:5.45, Epoch:0/1//Training Loss:5.45, Epoch:0/1"
     ]
    },
    {
     "name": "stdout",
     "output_type": "stream",
     "text": [
      "//Training Loss:5.45, Epoch:0/1//Training Loss:5.45, Epoch:0/1//Training Loss:5.45, Epoch:0/1//Training Loss:5.45, Epoch:0/1//Training Loss:5.45, Epoch:0/1//Training Loss:5.45, Epoch:0/1"
     ]
    },
    {
     "name": "stdout",
     "output_type": "stream",
     "text": [
      "//Training Loss:5.45, Epoch:0/1//Training Loss:5.45, Epoch:0/1//Training Loss:5.45, Epoch:0/1//Training Loss:5.44, Epoch:0/1//Training Loss:5.44, Epoch:0/1"
     ]
    },
    {
     "name": "stdout",
     "output_type": "stream",
     "text": [
      "//Training Loss:5.44, Epoch:0/1//Training Loss:5.44, Epoch:0/1//Training Loss:5.44, Epoch:0/1//Training Loss:5.44, Epoch:0/1//Training Loss:5.44, Epoch:0/1"
     ]
    },
    {
     "name": "stdout",
     "output_type": "stream",
     "text": [
      "//Training Loss:5.44, Epoch:0/1//Training Loss:5.44, Epoch:0/1//Training Loss:5.44, Epoch:0/1//Training Loss:5.44, Epoch:0/1//Training Loss:5.44, Epoch:0/1"
     ]
    },
    {
     "name": "stdout",
     "output_type": "stream",
     "text": [
      "//Training Loss:5.44, Epoch:0/1//Training Loss:5.44, Epoch:0/1//Training Loss:5.44, Epoch:0/1//Training Loss:5.44, Epoch:0/1//Training Loss:5.44, Epoch:0/1"
     ]
    },
    {
     "name": "stdout",
     "output_type": "stream",
     "text": [
      "//Training Loss:5.43, Epoch:0/1//Training Loss:5.44, Epoch:0/1//Training Loss:5.44, Epoch:0/1//Training Loss:5.43, Epoch:0/1//"
     ]
    },
    {
     "name": "stdout",
     "output_type": "stream",
     "text": [
      "Training Loss:5.44, Epoch:0/1//Training Loss:5.44, Epoch:0/1//Training Loss:5.44, Epoch:0/1//Training Loss:5.43, Epoch:0/1//Training Loss:5.43, Epoch:0/1//Training Loss:5.43, Epoch:0/1"
     ]
    },
    {
     "name": "stdout",
     "output_type": "stream",
     "text": [
      "//Training Loss:5.43, Epoch:0/1//Training Loss:5.43, Epoch:0/1//Training Loss:5.43, Epoch:0/1//Training Loss:5.43, Epoch:0/1//Training Loss:5.43, Epoch:0/1//Training Loss:5.43, Epoch:0/1"
     ]
    },
    {
     "name": "stdout",
     "output_type": "stream",
     "text": [
      "//Training Loss:5.43, Epoch:0/1//Training Loss:5.43, Epoch:0/1//Training Loss:5.43, Epoch:0/1//Training Loss:5.43, Epoch:0/1//Training Loss:5.43, Epoch:0/1//"
     ]
    },
    {
     "name": "stdout",
     "output_type": "stream",
     "text": [
      "Training Loss:5.42, Epoch:0/1//Training Loss:5.42, Epoch:0/1//Training Loss:5.42, Epoch:0/1//Training Loss:5.43, Epoch:0/1//Training Loss:5.43, Epoch:0/1//Training Loss:5.42, Epoch:0/1//"
     ]
    },
    {
     "name": "stdout",
     "output_type": "stream",
     "text": [
      "Training Loss:5.42, Epoch:0/1//Training Loss:5.42, Epoch:0/1//Training Loss:5.42, Epoch:0/1//Training Loss:5.42, Epoch:0/1//Training Loss:5.42, Epoch:0/1//Training Loss:5.42, Epoch:0/1//"
     ]
    },
    {
     "name": "stdout",
     "output_type": "stream",
     "text": [
      "Training Loss:5.42, Epoch:0/1//Training Loss:5.42, Epoch:0/1//Training Loss:5.42, Epoch:0/1//Training Loss:5.42, Epoch:0/1//Training Loss:5.42, Epoch:0/1//"
     ]
    },
    {
     "name": "stdout",
     "output_type": "stream",
     "text": [
      "Training Loss:5.42, Epoch:0/1//Training Loss:5.42, Epoch:0/1//Training Loss:5.42, Epoch:0/1//Training Loss:5.42, Epoch:0/1//Training Loss:5.42, Epoch:0/1//Training Loss:5.42, Epoch:0/1//Training Loss:5.42, Epoch:0/1//"
     ]
    },
    {
     "name": "stdout",
     "output_type": "stream",
     "text": [
      "Training Loss:5.42, Epoch:0/1//Training Loss:5.42, Epoch:0/1//Training Loss:5.42, Epoch:0/1//Training Loss:5.42, Epoch:0/1//Training Loss:5.42, Epoch:0/1//Training Loss:5.42, Epoch:0/1"
     ]
    },
    {
     "name": "stdout",
     "output_type": "stream",
     "text": [
      "//Training Loss:5.42, Epoch:0/1//Training Loss:5.42, Epoch:0/1//Training Loss:5.42, Epoch:0/1//Training Loss:5.42, Epoch:0/1//Training Loss:5.42, Epoch:0/1//"
     ]
    },
    {
     "name": "stdout",
     "output_type": "stream",
     "text": [
      "Training Loss:5.42, Epoch:0/1//Training Loss:5.42, Epoch:0/1//Training Loss:5.41, Epoch:0/1//Training Loss:5.41, Epoch:0/1//Training Loss:5.41, Epoch:0/1//Training Loss:5.41, Epoch:0/1"
     ]
    },
    {
     "name": "stdout",
     "output_type": "stream",
     "text": [
      "//Training Loss:5.41, Epoch:0/1//Training Loss:5.41, Epoch:0/1//Training Loss:5.41, Epoch:0/1//Training Loss:5.41, Epoch:0/1//Training Loss:5.41, Epoch:0/1"
     ]
    },
    {
     "name": "stdout",
     "output_type": "stream",
     "text": [
      "//Training Loss:5.41, Epoch:0/1//Training Loss:5.41, Epoch:0/1//Training Loss:5.41, Epoch:0/1//Training Loss:5.41, Epoch:0/1//Training Loss:5.41, Epoch:0/1"
     ]
    },
    {
     "name": "stdout",
     "output_type": "stream",
     "text": [
      "//Training Loss:5.41, Epoch:0/1//Training Loss:5.41, Epoch:0/1//Training Loss:5.41, Epoch:0/1//Training Loss:5.41, Epoch:0/1//Training Loss:5.41, Epoch:0/1//"
     ]
    },
    {
     "name": "stdout",
     "output_type": "stream",
     "text": [
      "Training Loss:5.41, Epoch:0/1//Training Loss:5.41, Epoch:0/1//Training Loss:5.41, Epoch:0/1//Training Loss:5.41, Epoch:0/1//Training Loss:5.41, Epoch:0/1//Training Loss:5.41, Epoch:0/1"
     ]
    },
    {
     "name": "stdout",
     "output_type": "stream",
     "text": [
      "//Training Loss:5.41, Epoch:0/1//Training Loss:5.41, Epoch:0/1//Training Loss:5.40, Epoch:0/1//Training Loss:5.40, Epoch:0/1//Training Loss:5.40, Epoch:0/1//"
     ]
    },
    {
     "name": "stdout",
     "output_type": "stream",
     "text": [
      "Training Loss:5.40, Epoch:0/1//Training Loss:5.40, Epoch:0/1//Training Loss:5.40, Epoch:0/1//Training Loss:5.40, Epoch:0/1//Training Loss:5.40, Epoch:0/1//Training Loss:5.40, Epoch:0/1//Training Loss:5.40, Epoch:0/1"
     ]
    },
    {
     "name": "stdout",
     "output_type": "stream",
     "text": [
      "//Training Loss:5.40, Epoch:0/1//Training Loss:5.40, Epoch:0/1//Training Loss:5.39, Epoch:0/1//Training Loss:5.39, Epoch:0/1//Training Loss:5.39, Epoch:0/1"
     ]
    },
    {
     "name": "stdout",
     "output_type": "stream",
     "text": [
      "//Training Loss:5.39, Epoch:0/1//Training Loss:5.39, Epoch:0/1//Training Loss:5.39, Epoch:0/1//Training Loss:5.39, Epoch:0/1//Training Loss:5.39, Epoch:0/1"
     ]
    },
    {
     "name": "stdout",
     "output_type": "stream",
     "text": [
      "//Training Loss:5.39, Epoch:0/1//Training Loss:5.39, Epoch:0/1//Training Loss:5.39, Epoch:0/1//Training Loss:5.39, Epoch:0/1//Training Loss:5.38, Epoch:0/1"
     ]
    },
    {
     "name": "stdout",
     "output_type": "stream",
     "text": [
      "//Training Loss:5.38, Epoch:0/1//Training Loss:5.38, Epoch:0/1//Training Loss:5.38, Epoch:0/1//Training Loss:5.38, Epoch:0/1//Training Loss:5.38, Epoch:0/1//"
     ]
    },
    {
     "name": "stdout",
     "output_type": "stream",
     "text": [
      "Training Loss:5.38, Epoch:0/1//Training Loss:5.38, Epoch:0/1//Training Loss:5.38, Epoch:0/1//Training Loss:5.38, Epoch:0/1//Training Loss:5.38, Epoch:0/1//Training Loss:5.38, Epoch:0/1//"
     ]
    },
    {
     "name": "stdout",
     "output_type": "stream",
     "text": [
      "Training Loss:5.38, Epoch:0/1//Training Loss:5.38, Epoch:0/1//Training Loss:5.37, Epoch:0/1//Training Loss:5.37, Epoch:0/1//Training Loss:5.37, Epoch:0/1//Training Loss:5.38, Epoch:0/1//"
     ]
    },
    {
     "name": "stdout",
     "output_type": "stream",
     "text": [
      "Training Loss:5.38, Epoch:0/1//Training Loss:5.37, Epoch:0/1//Training Loss:5.37, Epoch:0/1//Training Loss:5.37, Epoch:0/1//Training Loss:5.37, Epoch:0/1//Training Loss:5.37, Epoch:0/1"
     ]
    },
    {
     "name": "stdout",
     "output_type": "stream",
     "text": [
      "//Training Loss:5.37, Epoch:0/1//Training Loss:5.37, Epoch:0/1//Training Loss:5.38, Epoch:0/1//Training Loss:5.37, Epoch:0/1//Training Loss:5.37, Epoch:0/1"
     ]
    },
    {
     "name": "stdout",
     "output_type": "stream",
     "text": [
      "//Training Loss:5.37, Epoch:0/1//Training Loss:5.37, Epoch:0/1//Training Loss:5.37, Epoch:0/1//Training Loss:5.37, Epoch:0/1//Training Loss:5.37, Epoch:0/1"
     ]
    },
    {
     "name": "stdout",
     "output_type": "stream",
     "text": [
      "//Training Loss:5.37, Epoch:0/1//Training Loss:5.37, Epoch:0/1//Training Loss:5.37, Epoch:0/1//Training Loss:5.37, Epoch:0/1//Training Loss:5.37, Epoch:0/1"
     ]
    },
    {
     "name": "stdout",
     "output_type": "stream",
     "text": [
      "//Training Loss:5.37, Epoch:0/1//Training Loss:5.37, Epoch:0/1//Training Loss:5.37, Epoch:0/1//Training Loss:5.37, Epoch:0/1//Training Loss:5.37, Epoch:0/1"
     ]
    },
    {
     "name": "stdout",
     "output_type": "stream",
     "text": [
      "//Training Loss:5.37, Epoch:0/1//Training Loss:5.37, Epoch:0/1//Training Loss:5.37, Epoch:0/1//Training Loss:5.37, Epoch:0/1//Training Loss:5.37, Epoch:0/1"
     ]
    },
    {
     "name": "stdout",
     "output_type": "stream",
     "text": [
      "//Training Loss:5.37, Epoch:0/1//Training Loss:5.37, Epoch:0/1//Training Loss:5.37, Epoch:0/1//Training Loss:5.37, Epoch:0/1//Training Loss:5.37, Epoch:0/1"
     ]
    },
    {
     "name": "stdout",
     "output_type": "stream",
     "text": [
      "//Training Loss:5.37, Epoch:0/1//Training Loss:5.37, Epoch:0/1//Training Loss:5.36, Epoch:0/1//Training Loss:5.37, Epoch:0/1//Training Loss:5.37, Epoch:0/1"
     ]
    },
    {
     "name": "stdout",
     "output_type": "stream",
     "text": [
      "//Training Loss:5.37, Epoch:0/1//Training Loss:5.36, Epoch:0/1//Training Loss:5.37, Epoch:0/1//Training Loss:5.37, Epoch:0/1//Training Loss:5.37, Epoch:0/1"
     ]
    },
    {
     "name": "stdout",
     "output_type": "stream",
     "text": [
      "//Training Loss:5.37, Epoch:0/1//Training Loss:5.37, Epoch:0/1//Training Loss:5.37, Epoch:0/1//Training Loss:5.36, Epoch:0/1//Training Loss:5.36, Epoch:0/1"
     ]
    },
    {
     "name": "stdout",
     "output_type": "stream",
     "text": [
      "//Training Loss:5.37, Epoch:0/1//Training Loss:5.36, Epoch:0/1//Training Loss:5.36, Epoch:0/1//Training Loss:5.36, Epoch:0/1//Training Loss:5.36, Epoch:0/1//"
     ]
    },
    {
     "name": "stdout",
     "output_type": "stream",
     "text": [
      "Training Loss:5.36, Epoch:0/1//Training Loss:5.36, Epoch:0/1//Training Loss:5.36, Epoch:0/1//Training Loss:5.37, Epoch:0/1//Training Loss:5.37, Epoch:0/1//Training Loss:5.36, Epoch:0/1"
     ]
    },
    {
     "name": "stdout",
     "output_type": "stream",
     "text": [
      "//Training Loss:5.36, Epoch:0/1//Training Loss:5.37, Epoch:0/1//Training Loss:5.36, Epoch:0/1//Training Loss:5.36, Epoch:0/1//Training Loss:5.36, Epoch:0/1"
     ]
    },
    {
     "name": "stdout",
     "output_type": "stream",
     "text": [
      "//Training Loss:5.36, Epoch:0/1//Training Loss:5.36, Epoch:0/1//Training Loss:5.36, Epoch:0/1//Training Loss:5.36, Epoch:0/1//Training Loss:5.36, Epoch:0/1"
     ]
    },
    {
     "name": "stdout",
     "output_type": "stream",
     "text": [
      "//Training Loss:5.36, Epoch:0/1//Training Loss:5.36, Epoch:0/1//Training Loss:5.36, Epoch:0/1//Training Loss:5.36, Epoch:0/1//Training Loss:5.36, Epoch:0/1"
     ]
    },
    {
     "name": "stdout",
     "output_type": "stream",
     "text": [
      "//Training Loss:5.36, Epoch:0/1//Training Loss:5.35, Epoch:0/1//Training Loss:5.35, Epoch:0/1//Training Loss:5.36, Epoch:0/1//Training Loss:5.36, Epoch:0/1"
     ]
    },
    {
     "name": "stdout",
     "output_type": "stream",
     "text": [
      "//Training Loss:5.36, Epoch:0/1//Training Loss:5.36, Epoch:0/1//Training Loss:5.35, Epoch:0/1//Training Loss:5.36, Epoch:0/1//Training Loss:5.36, Epoch:0/1//"
     ]
    },
    {
     "name": "stdout",
     "output_type": "stream",
     "text": [
      "Training Loss:5.35, Epoch:0/1//Training Loss:5.35, Epoch:0/1//Training Loss:5.35, Epoch:0/1//Training Loss:5.35, Epoch:0/1//Training Loss:5.35, Epoch:0/1//Training Loss:5.36, Epoch:0/1//"
     ]
    },
    {
     "name": "stdout",
     "output_type": "stream",
     "text": [
      "Training Loss:5.36, Epoch:0/1//Training Loss:5.36, Epoch:0/1//Training Loss:5.36, Epoch:0/1//Training Loss:5.36, Epoch:0/1//Training Loss:5.35, Epoch:0/1//Training Loss:5.35, Epoch:0/1"
     ]
    },
    {
     "name": "stdout",
     "output_type": "stream",
     "text": [
      "//Training Loss:5.35, Epoch:0/1//Training Loss:5.35, Epoch:0/1//Training Loss:5.35, Epoch:0/1//Training Loss:5.35, Epoch:0/1//Training Loss:5.35, Epoch:0/1"
     ]
    },
    {
     "name": "stdout",
     "output_type": "stream",
     "text": [
      "//Training Loss:5.35, Epoch:0/1//Training Loss:5.35, Epoch:0/1//Training Loss:5.35, Epoch:0/1//Training Loss:5.35, Epoch:0/1//Training Loss:5.35, Epoch:0/1"
     ]
    },
    {
     "name": "stdout",
     "output_type": "stream",
     "text": [
      "//Training Loss:5.35, Epoch:0/1//Training Loss:5.35, Epoch:0/1//Training Loss:5.35, Epoch:0/1//Training Loss:5.35, Epoch:0/1//Training Loss:5.35, Epoch:0/1"
     ]
    },
    {
     "name": "stdout",
     "output_type": "stream",
     "text": [
      "//Training Loss:5.34, Epoch:0/1//Training Loss:5.34, Epoch:0/1//Training Loss:5.34, Epoch:0/1//Training Loss:5.34, Epoch:0/1//Training Loss:5.34, Epoch:0/1"
     ]
    },
    {
     "name": "stdout",
     "output_type": "stream",
     "text": [
      "//Training Loss:5.34, Epoch:0/1//Training Loss:5.34, Epoch:0/1//Training Loss:5.34, Epoch:0/1//Training Loss:5.34, Epoch:0/1//Training Loss:5.34, Epoch:0/1"
     ]
    },
    {
     "name": "stdout",
     "output_type": "stream",
     "text": [
      "//Training Loss:5.34, Epoch:0/1//Training Loss:5.34, Epoch:0/1//Training Loss:5.34, Epoch:0/1//Training Loss:5.34, Epoch:0/1//Training Loss:5.34, Epoch:0/1"
     ]
    },
    {
     "name": "stdout",
     "output_type": "stream",
     "text": [
      "//Training Loss:5.34, Epoch:0/1//Training Loss:5.34, Epoch:0/1//Training Loss:5.34, Epoch:0/1//Training Loss:5.34, Epoch:0/1//Training Loss:5.34, Epoch:0/1"
     ]
    },
    {
     "name": "stdout",
     "output_type": "stream",
     "text": [
      "//Training Loss:5.34, Epoch:0/1//Training Loss:5.34, Epoch:0/1//Training Loss:5.34, Epoch:0/1//Training Loss:5.34, Epoch:0/1//Training Loss:5.34, Epoch:0/1//"
     ]
    },
    {
     "name": "stdout",
     "output_type": "stream",
     "text": [
      "Training Loss:5.34, Epoch:0/1//Training Loss:5.34, Epoch:0/1//Training Loss:5.34, Epoch:0/1//Training Loss:5.34, Epoch:0/1//Training Loss:5.34, Epoch:0/1//Training Loss:5.33, Epoch:0/1"
     ]
    },
    {
     "name": "stdout",
     "output_type": "stream",
     "text": [
      "//Training Loss:5.33, Epoch:0/1//Training Loss:5.33, Epoch:0/1//Training Loss:5.33, Epoch:0/1//Training Loss:5.33, Epoch:0/1//Training Loss:5.33, Epoch:0/1//"
     ]
    },
    {
     "name": "stdout",
     "output_type": "stream",
     "text": [
      "Training Loss:5.33, Epoch:0/1//Training Loss:5.33, Epoch:0/1//Training Loss:5.33, Epoch:0/1//Training Loss:5.33, Epoch:0/1//Training Loss:5.33, Epoch:0/1//Training Loss:5.33, Epoch:0/1//"
     ]
    },
    {
     "name": "stdout",
     "output_type": "stream",
     "text": [
      "Training Loss:5.33, Epoch:0/1//Training Loss:5.33, Epoch:0/1//Training Loss:5.33, Epoch:0/1//Training Loss:5.33, Epoch:0/1//Training Loss:5.33, Epoch:0/1//Training Loss:5.33, Epoch:0/1"
     ]
    },
    {
     "name": "stdout",
     "output_type": "stream",
     "text": [
      "//Training Loss:5.33, Epoch:0/1//Training Loss:5.33, Epoch:0/1//Training Loss:5.33, Epoch:0/1//Training Loss:5.33, Epoch:0/1//Training Loss:5.33, Epoch:0/1"
     ]
    },
    {
     "name": "stdout",
     "output_type": "stream",
     "text": [
      "//Training Loss:5.33, Epoch:0/1//Training Loss:5.33, Epoch:0/1//Training Loss:5.33, Epoch:0/1//Training Loss:5.32, Epoch:0/1//Training Loss:5.33, Epoch:0/1"
     ]
    },
    {
     "name": "stdout",
     "output_type": "stream",
     "text": [
      "//Training Loss:5.33, Epoch:0/1//Training Loss:5.32, Epoch:0/1//Training Loss:5.32, Epoch:0/1//Training Loss:5.32, Epoch:0/1//Training Loss:5.32, Epoch:0/1"
     ]
    },
    {
     "name": "stdout",
     "output_type": "stream",
     "text": [
      "//Training Loss:5.32, Epoch:0/1//Training Loss:5.32, Epoch:0/1//Training Loss:5.32, Epoch:0/1//Training Loss:5.32, Epoch:0/1//Training Loss:5.32, Epoch:0/1"
     ]
    },
    {
     "name": "stdout",
     "output_type": "stream",
     "text": [
      "//Training Loss:5.32, Epoch:0/1//Training Loss:5.32, Epoch:0/1//Training Loss:5.32, Epoch:0/1//Training Loss:5.32, Epoch:0/1//Training Loss:5.32, Epoch:0/1"
     ]
    },
    {
     "name": "stdout",
     "output_type": "stream",
     "text": [
      "//Training Loss:5.32, Epoch:0/1//Training Loss:5.32, Epoch:0/1//Training Loss:5.32, Epoch:0/1//Training Loss:5.32, Epoch:0/1//Training Loss:5.32, Epoch:0/1"
     ]
    },
    {
     "name": "stdout",
     "output_type": "stream",
     "text": [
      "//Training Loss:5.32, Epoch:0/1//Training Loss:5.32, Epoch:0/1//Training Loss:5.31, Epoch:0/1//Training Loss:5.31, Epoch:0/1//Training Loss:5.32, Epoch:0/1//Training Loss:5.32, Epoch:0/1"
     ]
    },
    {
     "name": "stdout",
     "output_type": "stream",
     "text": [
      "//Training Loss:5.31, Epoch:0/1//Training Loss:5.31, Epoch:0/1//Training Loss:5.31, Epoch:0/1//Training Loss:5.31, Epoch:0/1//Training Loss:5.31, Epoch:0/1"
     ]
    },
    {
     "name": "stdout",
     "output_type": "stream",
     "text": [
      "//Training Loss:5.31, Epoch:0/1//Training Loss:5.31, Epoch:0/1//Training Loss:5.31, Epoch:0/1//Training Loss:5.31, Epoch:0/1//Training Loss:5.31, Epoch:0/1"
     ]
    },
    {
     "name": "stdout",
     "output_type": "stream",
     "text": [
      "//Training Loss:5.31, Epoch:0/1//Training Loss:5.31, Epoch:0/1//Training Loss:5.31, Epoch:0/1//Training Loss:5.31, Epoch:0/1//Training Loss:5.31, Epoch:0/1"
     ]
    },
    {
     "name": "stdout",
     "output_type": "stream",
     "text": [
      "//Training Loss:5.31, Epoch:0/1//Training Loss:5.31, Epoch:0/1//Training Loss:5.31, Epoch:0/1//Training Loss:5.31, Epoch:0/1//Training Loss:5.31, Epoch:0/1"
     ]
    },
    {
     "name": "stdout",
     "output_type": "stream",
     "text": [
      "//Training Loss:5.31, Epoch:0/1//Training Loss:5.31, Epoch:0/1//Training Loss:5.31, Epoch:0/1//Training Loss:5.30, Epoch:0/1//Training Loss:5.30, Epoch:0/1"
     ]
    },
    {
     "name": "stdout",
     "output_type": "stream",
     "text": [
      "//Training Loss:5.31, Epoch:0/1//Training Loss:5.30, Epoch:0/1//Training Loss:5.30, Epoch:0/1//Training Loss:5.30, Epoch:0/1//Training Loss:5.30, Epoch:0/1"
     ]
    },
    {
     "name": "stdout",
     "output_type": "stream",
     "text": [
      "//Training Loss:5.30, Epoch:0/1//Training Loss:5.30, Epoch:0/1//Training Loss:5.30, Epoch:0/1//Training Loss:5.30, Epoch:0/1//Training Loss:5.30, Epoch:0/1"
     ]
    },
    {
     "name": "stdout",
     "output_type": "stream",
     "text": [
      "//Training Loss:5.30, Epoch:0/1//Training Loss:5.30, Epoch:0/1//Training Loss:5.30, Epoch:0/1//Training Loss:5.30, Epoch:0/1//Training Loss:5.30, Epoch:0/1//"
     ]
    },
    {
     "name": "stdout",
     "output_type": "stream",
     "text": [
      "Training Loss:5.30, Epoch:0/1//Training Loss:5.30, Epoch:0/1//Training Loss:5.30, Epoch:0/1//Training Loss:5.30, Epoch:0/1//Training Loss:5.30, Epoch:0/1//Training Loss:5.30, Epoch:0/1"
     ]
    },
    {
     "name": "stdout",
     "output_type": "stream",
     "text": [
      "//Training Loss:5.30, Epoch:0/1//Training Loss:5.30, Epoch:0/1//Training Loss:5.30, Epoch:0/1//Training Loss:5.30, Epoch:0/1//Training Loss:5.30, Epoch:0/1"
     ]
    },
    {
     "name": "stdout",
     "output_type": "stream",
     "text": [
      "//Training Loss:5.30, Epoch:0/1//Training Loss:5.30, Epoch:0/1//Training Loss:5.30, Epoch:0/1//Training Loss:5.30, Epoch:0/1//Training Loss:5.30, Epoch:0/1"
     ]
    },
    {
     "name": "stdout",
     "output_type": "stream",
     "text": [
      "//Training Loss:5.30, Epoch:0/1//Training Loss:5.30, Epoch:0/1//Training Loss:5.30, Epoch:0/1//Training Loss:5.30, Epoch:0/1//Training Loss:5.30, Epoch:0/1"
     ]
    },
    {
     "name": "stdout",
     "output_type": "stream",
     "text": [
      "//Training Loss:5.30, Epoch:0/1//Training Loss:5.30, Epoch:0/1//Training Loss:5.30, Epoch:0/1//Training Loss:5.30, Epoch:0/1//Training Loss:5.30, Epoch:0/1"
     ]
    },
    {
     "name": "stdout",
     "output_type": "stream",
     "text": [
      "//Training Loss:5.30, Epoch:0/1//Training Loss:5.30, Epoch:0/1//Training Loss:5.30, Epoch:0/1//Training Loss:5.30, Epoch:0/1//Training Loss:5.30, Epoch:0/1"
     ]
    },
    {
     "name": "stdout",
     "output_type": "stream",
     "text": [
      "//Training Loss:5.30, Epoch:0/1//Training Loss:5.30, Epoch:0/1//Training Loss:5.30, Epoch:0/1//Training Loss:5.30, Epoch:0/1//Training Loss:5.30, Epoch:0/1"
     ]
    },
    {
     "name": "stdout",
     "output_type": "stream",
     "text": [
      "//Training Loss:5.30, Epoch:0/1//Training Loss:5.30, Epoch:0/1//Training Loss:5.30, Epoch:0/1//Training Loss:5.30, Epoch:0/1//Training Loss:5.30, Epoch:0/1"
     ]
    },
    {
     "name": "stdout",
     "output_type": "stream",
     "text": [
      "//Training Loss:5.30, Epoch:0/1//Training Loss:5.30, Epoch:0/1//Training Loss:5.30, Epoch:0/1//Training Loss:5.30, Epoch:0/1//Training Loss:5.30, Epoch:0/1"
     ]
    },
    {
     "name": "stdout",
     "output_type": "stream",
     "text": [
      "//Training Loss:5.30, Epoch:0/1//Training Loss:5.30, Epoch:0/1//Training Loss:5.30, Epoch:0/1//Training Loss:5.30, Epoch:0/1//Training Loss:5.30, Epoch:0/1"
     ]
    },
    {
     "name": "stdout",
     "output_type": "stream",
     "text": [
      "//Training Loss:5.30, Epoch:0/1//Training Loss:5.29, Epoch:0/1//Training Loss:5.29, Epoch:0/1//Training Loss:5.29, Epoch:0/1//Training Loss:5.29, Epoch:0/1"
     ]
    },
    {
     "name": "stdout",
     "output_type": "stream",
     "text": [
      "//Training Loss:5.29, Epoch:0/1//Training Loss:5.29, Epoch:0/1//Training Loss:5.29, Epoch:0/1//Training Loss:5.29, Epoch:0/1//Training Loss:5.29, Epoch:0/1"
     ]
    },
    {
     "name": "stdout",
     "output_type": "stream",
     "text": [
      "//Training Loss:5.29, Epoch:0/1//Training Loss:5.30, Epoch:0/1//Training Loss:5.29, Epoch:0/1//Training Loss:5.29, Epoch:0/1//Training Loss:5.29, Epoch:0/1"
     ]
    },
    {
     "name": "stdout",
     "output_type": "stream",
     "text": [
      "//Training Loss:5.29, Epoch:0/1//Training Loss:5.29, Epoch:0/1//Training Loss:5.29, Epoch:0/1//Training Loss:5.29, Epoch:0/1//Training Loss:5.29, Epoch:0/1"
     ]
    },
    {
     "name": "stdout",
     "output_type": "stream",
     "text": [
      "//Training Loss:5.29, Epoch:0/1//Training Loss:5.29, Epoch:0/1//Training Loss:5.29, Epoch:0/1//Training Loss:5.29, Epoch:0/1//Training Loss:5.29, Epoch:0/1"
     ]
    },
    {
     "name": "stdout",
     "output_type": "stream",
     "text": [
      "//Training Loss:5.29, Epoch:0/1//Training Loss:5.29, Epoch:0/1//Training Loss:5.29, Epoch:0/1//Training Loss:5.29, Epoch:0/1//Training Loss:5.29, Epoch:0/1"
     ]
    },
    {
     "name": "stdout",
     "output_type": "stream",
     "text": [
      "//Training Loss:5.29, Epoch:0/1//Training Loss:5.29, Epoch:0/1//Training Loss:5.29, Epoch:0/1//Training Loss:5.29, Epoch:0/1//Training Loss:5.29, Epoch:0/1"
     ]
    },
    {
     "name": "stdout",
     "output_type": "stream",
     "text": [
      "//Training Loss:5.29, Epoch:0/1//Training Loss:5.29, Epoch:0/1//Training Loss:5.29, Epoch:0/1//Training Loss:5.29, Epoch:0/1//Training Loss:5.29, Epoch:0/1"
     ]
    },
    {
     "name": "stdout",
     "output_type": "stream",
     "text": [
      "//Training Loss:5.29, Epoch:0/1//Training Loss:5.29, Epoch:0/1//Training Loss:5.29, Epoch:0/1//Training Loss:5.29, Epoch:0/1//"
     ]
    },
    {
     "name": "stdout",
     "output_type": "stream",
     "text": [
      "Training Loss:5.29, Epoch:0/1//Training Loss:5.29, Epoch:0/1//Training Loss:5.29, Epoch:0/1//Training Loss:5.29, Epoch:0/1//Training Loss:5.29, Epoch:0/1//Training Loss:5.29, Epoch:0/1"
     ]
    },
    {
     "name": "stdout",
     "output_type": "stream",
     "text": [
      "//Training Loss:5.29, Epoch:0/1//Training Loss:5.29, Epoch:0/1//Training Loss:5.29, Epoch:0/1//Training Loss:5.29, Epoch:0/1//Training Loss:5.29, Epoch:0/1"
     ]
    },
    {
     "name": "stdout",
     "output_type": "stream",
     "text": [
      "//Training Loss:5.29, Epoch:0/1//Training Loss:5.29, Epoch:0/1//Training Loss:5.29, Epoch:0/1//Training Loss:5.29, Epoch:0/1//Training Loss:5.29, Epoch:0/1"
     ]
    },
    {
     "name": "stdout",
     "output_type": "stream",
     "text": [
      "//Training Loss:5.29, Epoch:0/1//Training Loss:5.29, Epoch:0/1//Training Loss:5.28, Epoch:0/1//Training Loss:5.28, Epoch:0/1//Training Loss:5.28, Epoch:0/1"
     ]
    },
    {
     "name": "stdout",
     "output_type": "stream",
     "text": [
      "//Training Loss:5.28, Epoch:0/1//Training Loss:5.28, Epoch:0/1//Training Loss:5.28, Epoch:0/1//Training Loss:5.28, Epoch:0/1//Training Loss:5.28, Epoch:0/1"
     ]
    },
    {
     "name": "stdout",
     "output_type": "stream",
     "text": [
      "//Training Loss:5.28, Epoch:0/1//Training Loss:5.28, Epoch:0/1//Training Loss:5.28, Epoch:0/1//Training Loss:5.28, Epoch:0/1//Training Loss:5.28, Epoch:0/1"
     ]
    },
    {
     "name": "stdout",
     "output_type": "stream",
     "text": [
      "//Training Loss:5.28, Epoch:0/1//Training Loss:5.28, Epoch:0/1//Training Loss:5.28, Epoch:0/1//Training Loss:5.28, Epoch:0/1//Training Loss:5.28, Epoch:0/1"
     ]
    },
    {
     "name": "stdout",
     "output_type": "stream",
     "text": [
      "//Training Loss:5.28, Epoch:0/1//Training Loss:5.28, Epoch:0/1//Training Loss:5.28, Epoch:0/1//Training Loss:5.28, Epoch:0/1//"
     ]
    },
    {
     "name": "stdout",
     "output_type": "stream",
     "text": [
      "Training Loss:5.28, Epoch:0/1//Training Loss:5.28, Epoch:0/1//Training Loss:5.28, Epoch:0/1//Training Loss:5.28, Epoch:0/1//Training Loss:5.28, Epoch:0/1//Training Loss:5.28, Epoch:0/1"
     ]
    },
    {
     "name": "stdout",
     "output_type": "stream",
     "text": [
      "//Training Loss:5.28, Epoch:0/1//Training Loss:5.28, Epoch:0/1//Training Loss:5.28, Epoch:0/1//Training Loss:5.28, Epoch:0/1//Training Loss:5.28, Epoch:0/1"
     ]
    },
    {
     "name": "stdout",
     "output_type": "stream",
     "text": [
      "//Training Loss:5.28, Epoch:0/1//Training Loss:5.28, Epoch:0/1//Training Loss:5.28, Epoch:0/1//Training Loss:5.28, Epoch:0/1//Training Loss:5.28, Epoch:0/1"
     ]
    },
    {
     "name": "stdout",
     "output_type": "stream",
     "text": [
      "//Training Loss:5.28, Epoch:0/1//Training Loss:5.28, Epoch:0/1//Training Loss:5.28, Epoch:0/1//Training Loss:5.28, Epoch:0/1//Training Loss:5.28, Epoch:0/1"
     ]
    },
    {
     "name": "stdout",
     "output_type": "stream",
     "text": [
      "//Training Loss:5.28, Epoch:0/1//Training Loss:5.28, Epoch:0/1//Training Loss:5.28, Epoch:0/1//Training Loss:5.28, Epoch:0/1//Training Loss:5.28, Epoch:0/1"
     ]
    },
    {
     "name": "stdout",
     "output_type": "stream",
     "text": [
      "//Training Loss:5.28, Epoch:0/1//Training Loss:5.28, Epoch:0/1//Training Loss:5.28, Epoch:0/1//Training Loss:5.28, Epoch:0/1//Training Loss:5.28, Epoch:0/1"
     ]
    },
    {
     "name": "stdout",
     "output_type": "stream",
     "text": [
      "//Training Loss:5.28, Epoch:0/1//Training Loss:5.28, Epoch:0/1//Training Loss:5.28, Epoch:0/1//Training Loss:5.28, Epoch:0/1//Training Loss:5.28, Epoch:0/1"
     ]
    },
    {
     "name": "stdout",
     "output_type": "stream",
     "text": [
      "//Training Loss:5.28, Epoch:0/1//Training Loss:5.28, Epoch:0/1//Training Loss:5.28, Epoch:0/1//Training Loss:5.28, Epoch:0/1//Training Loss:5.28, Epoch:0/1"
     ]
    },
    {
     "name": "stdout",
     "output_type": "stream",
     "text": [
      "//Training Loss:5.28, Epoch:0/1//Training Loss:5.28, Epoch:0/1//Training Loss:5.27, Epoch:0/1//Training Loss:5.27, Epoch:0/1//Training Loss:5.27, Epoch:0/1"
     ]
    },
    {
     "name": "stdout",
     "output_type": "stream",
     "text": [
      "//Training Loss:5.28, Epoch:0/1//Training Loss:5.27, Epoch:0/1//Training Loss:5.28, Epoch:0/1//Training Loss:5.28, Epoch:0/1//Training Loss:5.28, Epoch:0/1"
     ]
    },
    {
     "name": "stdout",
     "output_type": "stream",
     "text": [
      "//Training Loss:5.27, Epoch:0/1//Training Loss:5.27, Epoch:0/1//Training Loss:5.27, Epoch:0/1//Training Loss:5.27, Epoch:0/1//Training Loss:5.27, Epoch:0/1"
     ]
    },
    {
     "name": "stdout",
     "output_type": "stream",
     "text": [
      "//Training Loss:5.27, Epoch:0/1//Training Loss:5.27, Epoch:0/1//Training Loss:5.27, Epoch:0/1//Training Loss:5.27, Epoch:0/1//Training Loss:5.27, Epoch:0/1"
     ]
    },
    {
     "name": "stdout",
     "output_type": "stream",
     "text": [
      "//Training Loss:5.27, Epoch:0/1//Training Loss:5.27, Epoch:0/1//Training Loss:5.27, Epoch:0/1//Training Loss:5.27, Epoch:0/1//Training Loss:5.27, Epoch:0/1"
     ]
    },
    {
     "name": "stdout",
     "output_type": "stream",
     "text": [
      "//Training Loss:5.27, Epoch:0/1//Training Loss:5.27, Epoch:0/1//Training Loss:5.27, Epoch:0/1//Training Loss:5.27, Epoch:0/1//Training Loss:5.27, Epoch:0/1"
     ]
    },
    {
     "name": "stdout",
     "output_type": "stream",
     "text": [
      "//Training Loss:5.27, Epoch:0/1//Training Loss:5.27, Epoch:0/1//Training Loss:5.27, Epoch:0/1//Training Loss:5.27, Epoch:0/1//Training Loss:5.27, Epoch:0/1"
     ]
    },
    {
     "name": "stdout",
     "output_type": "stream",
     "text": [
      "//Training Loss:5.27, Epoch:0/1//Training Loss:5.27, Epoch:0/1//Training Loss:5.27, Epoch:0/1//Training Loss:5.27, Epoch:0/1//Training Loss:5.27, Epoch:0/1"
     ]
    },
    {
     "name": "stdout",
     "output_type": "stream",
     "text": [
      "//Training Loss:5.27, Epoch:0/1//Training Loss:5.27, Epoch:0/1//Training Loss:5.27, Epoch:0/1//Training Loss:5.27, Epoch:0/1//Training Loss:5.27, Epoch:0/1"
     ]
    },
    {
     "name": "stdout",
     "output_type": "stream",
     "text": [
      "//Training Loss:5.27, Epoch:0/1//Training Loss:5.27, Epoch:0/1//Training Loss:5.27, Epoch:0/1//Training Loss:5.27, Epoch:0/1//"
     ]
    },
    {
     "name": "stdout",
     "output_type": "stream",
     "text": [
      "Training Loss:5.27, Epoch:0/1//Training Loss:5.27, Epoch:0/1//Training Loss:5.27, Epoch:0/1//Training Loss:5.27, Epoch:0/1//Training Loss:5.27, Epoch:0/1//Training Loss:5.27, Epoch:0/1//"
     ]
    },
    {
     "name": "stdout",
     "output_type": "stream",
     "text": [
      "Training Loss:5.27, Epoch:0/1//Training Loss:5.27, Epoch:0/1//Training Loss:5.27, Epoch:0/1//Training Loss:5.27, Epoch:0/1//Training Loss:5.27, Epoch:0/1//"
     ]
    },
    {
     "name": "stdout",
     "output_type": "stream",
     "text": [
      "Training Loss:5.27, Epoch:0/1//Training Loss:5.27, Epoch:0/1//Training Loss:5.27, Epoch:0/1//Training Loss:5.27, Epoch:0/1//Training Loss:5.27, Epoch:0/1"
     ]
    },
    {
     "name": "stdout",
     "output_type": "stream",
     "text": [
      "//Training Loss:5.27, Epoch:0/1//Training Loss:5.27, Epoch:0/1//Training Loss:5.27, Epoch:0/1//Training Loss:5.27, Epoch:0/1//Training Loss:5.27, Epoch:0/1"
     ]
    },
    {
     "name": "stdout",
     "output_type": "stream",
     "text": [
      "//Training Loss:5.27, Epoch:0/1//Training Loss:5.27, Epoch:0/1//Training Loss:5.27, Epoch:0/1//Training Loss:5.27, Epoch:0/1//"
     ]
    },
    {
     "name": "stdout",
     "output_type": "stream",
     "text": [
      "Training Loss:5.27, Epoch:0/1//Training Loss:5.27, Epoch:0/1//Training Loss:5.27, Epoch:0/1//Training Loss:5.27, Epoch:0/1//Training Loss:5.27, Epoch:0/1//"
     ]
    },
    {
     "name": "stdout",
     "output_type": "stream",
     "text": [
      "Training Loss:5.27, Epoch:0/1//Training Loss:5.27, Epoch:0/1//Training Loss:5.27, Epoch:0/1//Training Loss:5.27, Epoch:0/1//Training Loss:5.27, Epoch:0/1//Training Loss:5.27, Epoch:0/1"
     ]
    },
    {
     "name": "stdout",
     "output_type": "stream",
     "text": [
      "//Training Loss:5.26, Epoch:0/1//Training Loss:5.26, Epoch:0/1//Training Loss:5.26, Epoch:0/1//Training Loss:5.26, Epoch:0/1//Training Loss:5.26, Epoch:0/1"
     ]
    },
    {
     "name": "stdout",
     "output_type": "stream",
     "text": [
      "//Training Loss:5.26, Epoch:0/1//Training Loss:5.26, Epoch:0/1//Training Loss:5.26, Epoch:0/1//Training Loss:5.26, Epoch:0/1//Training Loss:5.26, Epoch:0/1"
     ]
    },
    {
     "name": "stdout",
     "output_type": "stream",
     "text": [
      "//Training Loss:5.26, Epoch:0/1//Training Loss:5.26, Epoch:0/1//Training Loss:5.26, Epoch:0/1//Training Loss:5.26, Epoch:0/1//Training Loss:5.26, Epoch:0/1"
     ]
    },
    {
     "name": "stdout",
     "output_type": "stream",
     "text": [
      "//Training Loss:5.26, Epoch:0/1//Training Loss:5.26, Epoch:0/1//Training Loss:5.26, Epoch:0/1//Training Loss:5.26, Epoch:0/1//Training Loss:5.26, Epoch:0/1"
     ]
    },
    {
     "name": "stdout",
     "output_type": "stream",
     "text": [
      "//Training Loss:5.26, Epoch:0/1//Training Loss:5.26, Epoch:0/1//Training Loss:5.26, Epoch:0/1//Training Loss:5.26, Epoch:0/1//"
     ]
    },
    {
     "name": "stdout",
     "output_type": "stream",
     "text": [
      "Training Loss:5.26, Epoch:0/1//Training Loss:5.26, Epoch:0/1//Training Loss:5.26, Epoch:0/1//Training Loss:5.26, Epoch:0/1//Training Loss:5.26, Epoch:0/1//Training Loss:5.26, Epoch:0/1//"
     ]
    },
    {
     "name": "stdout",
     "output_type": "stream",
     "text": [
      "Training Loss:5.26, Epoch:0/1//Training Loss:5.26, Epoch:0/1//Training Loss:5.26, Epoch:0/1//Training Loss:5.26, Epoch:0/1//Training Loss:5.26, Epoch:0/1//Training Loss:5.26, Epoch:0/1"
     ]
    },
    {
     "name": "stdout",
     "output_type": "stream",
     "text": [
      "//Training Loss:5.26, Epoch:0/1//Training Loss:5.26, Epoch:0/1//Training Loss:5.26, Epoch:0/1//Training Loss:5.26, Epoch:0/1"
     ]
    },
    {
     "name": "stdout",
     "output_type": "stream",
     "text": [
      "//Training Loss:5.26, Epoch:0/1//Training Loss:5.26, Epoch:0/1//Training Loss:5.26, Epoch:0/1//Training Loss:5.25, Epoch:0/1//Training Loss:5.25, Epoch:0/1"
     ]
    },
    {
     "name": "stdout",
     "output_type": "stream",
     "text": [
      "//Training Loss:5.25, Epoch:0/1//Training Loss:5.25, Epoch:0/1//Training Loss:5.25, Epoch:0/1//Training Loss:5.25, Epoch:0/1//Training Loss:5.25, Epoch:0/1"
     ]
    },
    {
     "name": "stdout",
     "output_type": "stream",
     "text": [
      "//Training Loss:5.25, Epoch:0/1//Training Loss:5.25, Epoch:0/1//Training Loss:5.25, Epoch:0/1//Training Loss:5.25, Epoch:0/1//"
     ]
    },
    {
     "name": "stdout",
     "output_type": "stream",
     "text": [
      "Training Loss:5.25, Epoch:0/1//Training Loss:5.25, Epoch:0/1//Training Loss:5.25, Epoch:0/1//Training Loss:5.25, Epoch:0/1//Training Loss:5.25, Epoch:0/1//Training Loss:5.25, Epoch:0/1"
     ]
    },
    {
     "name": "stdout",
     "output_type": "stream",
     "text": [
      "//Training Loss:5.25, Epoch:0/1//Training Loss:5.25, Epoch:0/1//Training Loss:5.25, Epoch:0/1//Training Loss:5.25, Epoch:0/1//"
     ]
    },
    {
     "name": "stdout",
     "output_type": "stream",
     "text": [
      "Training Loss:5.25, Epoch:0/1//Training Loss:5.25, Epoch:0/1//Training Loss:5.25, Epoch:0/1//Training Loss:5.25, Epoch:0/1//Training Loss:5.25, Epoch:0/1//Training Loss:5.25, Epoch:0/1"
     ]
    },
    {
     "name": "stdout",
     "output_type": "stream",
     "text": [
      "//Training Loss:5.25, Epoch:0/1//Training Loss:5.25, Epoch:0/1//Training Loss:5.25, Epoch:0/1//Training Loss:5.25, Epoch:0/1//Training Loss:5.25, Epoch:0/1"
     ]
    },
    {
     "name": "stdout",
     "output_type": "stream",
     "text": [
      "//Training Loss:5.25, Epoch:0/1//Training Loss:5.25, Epoch:0/1//Training Loss:5.25, Epoch:0/1//Training Loss:5.25, Epoch:0/1//Training Loss:5.25, Epoch:0/1"
     ]
    },
    {
     "name": "stdout",
     "output_type": "stream",
     "text": [
      "//Training Loss:5.25, Epoch:0/1//Training Loss:5.25, Epoch:0/1//Training Loss:5.25, Epoch:0/1//Training Loss:5.25, Epoch:0/1//Training Loss:5.25, Epoch:0/1"
     ]
    },
    {
     "name": "stdout",
     "output_type": "stream",
     "text": [
      "//Training Loss:5.25, Epoch:0/1//Training Loss:5.25, Epoch:0/1//Training Loss:5.25, Epoch:0/1//Training Loss:5.25, Epoch:0/1//Training Loss:5.25, Epoch:0/1"
     ]
    },
    {
     "name": "stdout",
     "output_type": "stream",
     "text": [
      "//Training Loss:5.25, Epoch:0/1//Training Loss:5.25, Epoch:0/1//Training Loss:5.25, Epoch:0/1//Training Loss:5.25, Epoch:0/1//Training Loss:5.25, Epoch:0/1"
     ]
    },
    {
     "name": "stdout",
     "output_type": "stream",
     "text": [
      "//Training Loss:5.25, Epoch:0/1//Training Loss:5.25, Epoch:0/1//Training Loss:5.25, Epoch:0/1//Training Loss:5.25, Epoch:0/1//Training Loss:5.25, Epoch:0/1"
     ]
    },
    {
     "name": "stdout",
     "output_type": "stream",
     "text": [
      "//Training Loss:5.25, Epoch:0/1//Training Loss:5.25, Epoch:0/1//Training Loss:5.25, Epoch:0/1//Training Loss:5.25, Epoch:0/1//Training Loss:5.25, Epoch:0/1"
     ]
    },
    {
     "name": "stdout",
     "output_type": "stream",
     "text": [
      "//Training Loss:5.25, Epoch:0/1//Training Loss:5.25, Epoch:0/1//Training Loss:5.25, Epoch:0/1//Training Loss:5.25, Epoch:0/1//Training Loss:5.25, Epoch:0/1"
     ]
    },
    {
     "name": "stdout",
     "output_type": "stream",
     "text": [
      "//Training Loss:5.25, Epoch:0/1//Training Loss:5.25, Epoch:0/1//Training Loss:5.25, Epoch:0/1//Training Loss:5.25, Epoch:0/1//"
     ]
    },
    {
     "name": "stdout",
     "output_type": "stream",
     "text": [
      "Training Loss:5.25, Epoch:0/1//Training Loss:5.25, Epoch:0/1//Training Loss:5.25, Epoch:0/1//Training Loss:5.25, Epoch:0/1//Training Loss:5.24, Epoch:0/1//Training Loss:5.25, Epoch:0/1"
     ]
    },
    {
     "name": "stdout",
     "output_type": "stream",
     "text": [
      "//Training Loss:5.24, Epoch:0/1//Training Loss:5.24, Epoch:0/1//Training Loss:5.24, Epoch:0/1//Training Loss:5.24, Epoch:0/1//Training Loss:5.24, Epoch:0/1"
     ]
    },
    {
     "name": "stdout",
     "output_type": "stream",
     "text": [
      "//"
     ]
    },
    {
     "ename": "KeyboardInterrupt",
     "evalue": "",
     "traceback": [
      "\u001b[1;31m---------------------------------------------------------------------------\u001b[0m",
      "\u001b[1;31mKeyboardInterrupt\u001b[0m                         Traceback (most recent call last)",
      "\u001b[1;32m<ipython-input-9-fb9b1d6247a2>\u001b[0m in \u001b[0;36m<module>\u001b[1;34m\u001b[0m\n\u001b[0;32m     24\u001b[0m         \u001b[0mtrain_loss\u001b[0m\u001b[1;33m.\u001b[0m\u001b[0mappend\u001b[0m\u001b[1;33m(\u001b[0m\u001b[0mloss\u001b[0m\u001b[1;33m.\u001b[0m\u001b[0mdata\u001b[0m\u001b[1;33m)\u001b[0m\u001b[1;33m\u001b[0m\u001b[1;33m\u001b[0m\u001b[0m\n\u001b[0;32m     25\u001b[0m \u001b[1;33m\u001b[0m\u001b[0m\n\u001b[1;32m---> 26\u001b[1;33m         \u001b[0mepoch_loss\u001b[0m \u001b[1;33m=\u001b[0m \u001b[0msum\u001b[0m\u001b[1;33m(\u001b[0m\u001b[0mtrain_loss\u001b[0m\u001b[1;33m)\u001b[0m\u001b[1;33m/\u001b[0m\u001b[0mlen\u001b[0m\u001b[1;33m(\u001b[0m\u001b[0mtrain_loss\u001b[0m\u001b[1;33m)\u001b[0m\u001b[1;33m\u001b[0m\u001b[1;33m\u001b[0m\u001b[0m\n\u001b[0m\u001b[0;32m     27\u001b[0m         \u001b[0mprint\u001b[0m\u001b[1;33m(\u001b[0m\u001b[1;34mf\"Training Loss:{epoch_loss:.2f}, Epoch:{epc}/{epochs}\"\u001b[0m\u001b[1;33m,\u001b[0m \u001b[0mend\u001b[0m \u001b[1;33m=\u001b[0m \u001b[1;34m\"//\"\u001b[0m\u001b[1;33m)\u001b[0m\u001b[1;33m\u001b[0m\u001b[1;33m\u001b[0m\u001b[0m\n\u001b[0;32m     28\u001b[0m \u001b[1;33m\u001b[0m\u001b[0m\n",
      "\u001b[1;31mKeyboardInterrupt\u001b[0m: "
     ],
     "output_type": "error"
    }
   ],
   "source": [
    "###train\n",
    "from model import try_gpu\n",
    "train_data  = trainset()\n",
    "val_data = trainset(train=False, val=True)\n",
    "trainloader = DataLoader(train_data, batch_size=2,shuffle=True)\n",
    "valloader = DataLoader(val_data, batch_size=2,shuffle=True)\n",
    "epochs = 1\n",
    "device = try_gpu()\n",
    "net = resnet(3, n_classes)\n",
    "net.to(device)\n",
    "optimizer = torch.optim.Adam(net.parameters(), lr=learning_rate, weight_decay=wd)\n",
    "loss_fn = nn.CrossEntropyLoss()\n",
    "for epc in range(epochs):\n",
    "    train_loss = []\n",
    "    val_acc = []\n",
    "     #### train #####\n",
    "    for X, Y in trainloader:\n",
    "        X, Y = X.to(device), Y.to(device)\n",
    "        oupt = net(X)\n",
    "        optimizer.zero_grad()\n",
    "        loss = loss_fn(oupt, Y)\n",
    "        loss.backward()\n",
    "        optimizer.step()\n",
    "        train_loss.append(loss.data)\n",
    "        \n",
    "    epoch_loss = sum(train_loss)/len(train_loss)\n",
    "    print(f\"Training Loss:{epoch_loss:.2f}, Epoch:{epc}/{epochs}\", end = \"//\")\n",
    "        \n",
    "        \n",
    "    #### val #####\n",
    "    for X, Y in valloader:\n",
    "        X, Y = X.to(device), Y.to(device)   \n",
    "        with torch.no_grad(): \n",
    "            pred = net(X)\n",
    "            acc = (pred.argmax(dim=-1) == Y).float().mean()\n",
    "        val_acc.append(acc.item())\n",
    "    mean_acc = sum(val_acc)/len(val_acc)\n",
    "    print(f\"Validation Acc:{mean_acc:.2f}, Epoch:{epc}/{epochs}\")"
   ]
  },
  {
   "cell_type": "code",
   "execution_count": 11,
   "metadata": {},
   "outputs": [],
   "source": [
    "torch.save(net, \"resnet.pth\")"
   ]
  },
  {
   "cell_type": "markdown",
   "metadata": {},
   "source": [
    "## Augmentation"
   ]
  },
  {
   "cell_type": "code",
   "execution_count": null,
   "metadata": {},
   "outputs": [],
   "source": [
    ""
   ]
  },
  {
   "cell_type": "markdown",
   "metadata": {},
   "source": [
    "## Visualization"
   ]
  },
  {
   "cell_type": "code",
   "execution_count": 5,
   "metadata": {},
   "outputs": [],
   "source": [
    "import numpy as np\n",
    "import matplotlib\n",
    "import matplotlib.pyplot as plt\n",
    "matplotlib.use('Agg')  #生成eps\n",
    "import seaborn as sns\n",
    "sns.set_style('whitegrid')"
   ]
  },
  {
   "cell_type": "code",
   "execution_count": 6,
   "metadata": {},
   "outputs": [
    {
     "name": "stderr",
     "output_type": "stream",
     "text": [
      "D:\\Applications\\Anaconda\\anaconda\\lib\\site-packages\\ipykernel_launcher.py:13: UserWarning: Matplotlib is currently using agg, which is a non-GUI backend, so cannot show the figure.\n  del sys.path[0]\n"
     ]
    },
    {
     "data": {
      "image/png": "[encoded data removed]",
      "text/plain": [
       "<Figure size 432x288 with 1 Axes>"
      ]
     },
     "metadata": {},
     "output_type": "display_data"
    }
   ],
   "source": [
    "acc = np.load(\"./exp/val_acc_normal.npy\")\n",
    "loss = np.load(\"./exp/train_loss_normal.npy\")\n",
    "plt.style.use(\"seaborn-darkgrid\")\n",
    "loss_normalized =  loss/np.linalg.norm(loss)\n",
    "plt.plot(np.arange(len(acc)), acc, label=\"validation acc\")\n",
    "plt.plot(np.arange(len(acc)), loss_normalized, label=\"training loss\")\n",
    "plt.xlabel('Epochs')\n",
    "plt.ylabel('compare')\n",
    "# plt.title(\"N20_M2_L20_server_clientnum5\")\n",
    "# plt.title(\"Pendulum\")\n",
    "# plt.title('DQN on {}'.format(env_name))\n",
    "plt.legend(loc='lower right') # 图例在图形里面\n",
    "plt.show()\n",
    "plt.savefig(fname=\"./fig/default.pdf\",format=\"pdf\")"
   ]
  },
  {
   "cell_type": "code",
   "execution_count": 7,
   "metadata": {},
   "outputs": [
    {
     "name": "stderr",
     "output_type": "stream",
     "text": [
      "D:\\Applications\\Anaconda\\anaconda\\lib\\site-packages\\ipykernel_launcher.py:14: UserWarning: Matplotlib is currently using agg, which is a non-GUI backend, so cannot show the figure.\n  \n"
     ]
    },
    {
     "data": {
      "image/png": "[encoded data removed]",
      "text/plain": [
       "<Figure size 432x288 with 1 Axes>"
      ]
     },
     "metadata": {},
     "output_type": "display_data"
    }
   ],
   "source": [
    "#augmentation 1\n",
    "acc = np.load(\"./exp/val_acc_aug.npy\")\n",
    "loss = np.load(\"./exp/train_loss_aug.npy\")\n",
    "plt.style.use(\"seaborn-darkgrid\")\n",
    "loss_normalized =  loss/np.linalg.norm(loss)\n",
    "plt.plot(np.arange(len(acc)), acc, label=\"validation acc\")\n",
    "plt.plot(np.arange(len(acc)), loss_normalized, label=\"training loss\")\n",
    "plt.xlabel('Epochs')\n",
    "plt.ylabel('compare')\n",
    "# plt.title(\"N20_M2_L20_server_clientnum5\")\n",
    "# plt.title(\"Pendulum\")\n",
    "# plt.title('DQN on {}'.format(env_name))\n",
    "plt.legend(loc='lower right') # 图例在图形里面\n",
    "plt.show()\n",
    "plt.savefig(fname=\"./fig/aug1.pdf\",format=\"pdf\")"
   ]
  },
  {
   "cell_type": "code",
   "execution_count": 8,
   "metadata": {},
   "outputs": [
    {
     "name": "stderr",
     "output_type": "stream",
     "text": [
      "D:\\Applications\\Anaconda\\anaconda\\lib\\site-packages\\ipykernel_launcher.py:14: UserWarning: Matplotlib is currently using agg, which is a non-GUI backend, so cannot show the figure.\n  \n"
     ]
    },
    {
     "data": {
      "image/png": "[encoded data removed]",
      "text/plain": [
       "<Figure size 432x288 with 1 Axes>"
      ]
     },
     "metadata": {},
     "output_type": "display_data"
    }
   ],
   "source": [
    "#augmentation 2\n",
    "acc = np.load(\"./exp/val_acc_aug2.npy\")\n",
    "loss = np.load(\"./exp/train_loss_aug2.npy\")\n",
    "plt.style.use(\"seaborn-darkgrid\")\n",
    "loss_normalized =  loss/np.linalg.norm(loss)\n",
    "plt.plot(np.arange(len(acc)), acc, label=\"validation acc\")\n",
    "plt.plot(np.arange(len(acc)), loss_normalized, label=\"training loss\")\n",
    "plt.xlabel('Epochs')\n",
    "plt.ylabel('compare')\n",
    "# plt.title(\"N20_M2_L20_server_clientnum5\")\n",
    "# plt.title(\"Pendulum\")\n",
    "# plt.title('DQN on {}'.format(env_name))\n",
    "plt.legend(loc='lower right') # 图例在图形里面\n",
    "plt.show()\n",
    "plt.savefig(fname=\"./fig/aug2.pdf\",format=\"pdf\")"
   ]
  },
  {
   "cell_type": "code",
   "execution_count": 9,
   "metadata": {},
   "outputs": [
    {
     "name": "stderr",
     "output_type": "stream",
     "text": [
      "D:\\Applications\\Anaconda\\anaconda\\lib\\site-packages\\ipykernel_launcher.py:13: UserWarning: Matplotlib is currently using agg, which is a non-GUI backend, so cannot show the figure.\n  del sys.path[0]\n"
     ]
    },
    {
     "data": {
      "image/png": "[encoded data removed]",
      "text/plain": [
       "<Figure size 432x288 with 1 Axes>"
      ]
     },
     "metadata": {},
     "output_type": "display_data"
    }
   ],
   "source": [
    "acc = np.load(\"./exp/val_acc_aug3.npy\")\n",
    "loss = np.load(\"./exp/train_loss_aug3.npy\")\n",
    "plt.style.use(\"seaborn-darkgrid\")\n",
    "loss_normalized =  loss/np.linalg.norm(loss)\n",
    "plt.plot(np.arange(len(acc)), acc, label=\"validation acc\")\n",
    "plt.plot(np.arange(len(acc)), loss_normalized, label=\"training loss\")\n",
    "plt.xlabel('Epochs')\n",
    "plt.ylabel('compare')\n",
    "# plt.title(\"N20_M2_L20_server_clientnum5\")\n",
    "# plt.title(\"Pendulum\")\n",
    "# plt.title('DQN on {}'.format(env_name))\n",
    "plt.legend(loc='lower right') # 图例在图形里面\n",
    "plt.show()\n",
    "plt.savefig(fname=\"./fig/aug3.pdf\",format=\"pdf\")"
   ]
  },
  {
   "cell_type": "code",
   "execution_count": 6,
   "metadata": {},
   "outputs": [
    {
     "name": "stderr",
     "output_type": "stream",
     "text": [
      "D:\\Applications\\Anaconda\\anaconda\\lib\\site-packages\\ipykernel_launcher.py:15: UserWarning: Matplotlib is currently using agg, which is a non-GUI backend, so cannot show the figure.\n  from ipykernel import kernelapp as app\n"
     ]
    },
    {
     "data": {
      "image/png": "[encoded data removed]",
      "text/plain": [
       "<Figure size 432x288 with 1 Axes>"
      ]
     },
     "metadata": {},
     "output_type": "display_data"
    }
   ],
   "source": [
    "acc = np.load(\"./exp/val_acc_pre.npy\")\n",
    "loss = np.load(\"./exp/train_loss_pre.npy\")\n",
    "train_acc = np.load(\"./exp/train_acc_pre.npy\")\n",
    "plt.style.use(\"seaborn-darkgrid\")\n",
    "loss_normalized =  loss/np.linalg.norm(loss)\n",
    "plt.plot(np.arange(len(acc)), acc, label=\"validation acc\")\n",
    "plt.plot(np.arange(len(acc)), loss_normalized, label=\"training loss\")\n",
    "plt.plot(np.arange(len(acc)), train_acc, label=\"training acc\")\n",
    "plt.xlabel('Epochs')\n",
    "plt.ylabel('compare')\n",
    "# plt.title(\"N20_M2_L20_server_clientnum5\")\n",
    "# plt.title(\"Pendulum\")\n",
    "# plt.title('DQN on {}'.format(env_name))\n",
    "plt.legend(loc='lower right') # 图例在图形里面\n",
    "plt.show()\n",
    "plt.savefig(fname=\"./fig/predefault.pdf\",format=\"pdf\")"
   ]
  },
  {
   "cell_type": "code",
   "execution_count": 3,
   "metadata": {},
   "outputs": [
    {
     "name": "stderr",
     "output_type": "stream",
     "text": [
      "D:\\Applications\\Anaconda\\anaconda\\lib\\site-packages\\ipykernel_launcher.py:15: UserWarning: Matplotlib is currently using agg, which is a non-GUI backend, so cannot show the figure.\n  from ipykernel import kernelapp as app\n"
     ]
    }
   ],
   "source": [
    "acc = np.load(\"./exp/val_acc_preaug.npy\")\n",
    "loss = np.load(\"./exp/train_loss_preaug.npy\")\n",
    "train_acc = np.load(\"./exp/train_acc_preaug.npy\")\n",
    "plt.style.use(\"seaborn-darkgrid\")\n",
    "loss_normalized =  loss/np.linalg.norm(loss)\n",
    "plt.plot(np.arange(len(acc)), acc, label=\"validation acc\")\n",
    "plt.plot(np.arange(len(acc)), loss_normalized, label=\"training loss\")\n",
    "plt.plot(np.arange(len(acc)), train_acc, label=\"training acc\")\n",
    "plt.xlabel('Epochs')\n",
    "plt.ylabel('compare')\n",
    "# plt.title(\"N20_M2_L20_server_clientnum5\")\n",
    "# plt.title(\"Pendulum\")\n",
    "# plt.title('DQN on {}'.format(env_name))\n",
    "plt.legend(loc='lower right') # 图例在图形里面\n",
    "plt.show()\n",
    "plt.savefig(fname=\"./fig/preaug.pdf\",format=\"pdf\")"
   ]
  },
  {
   "cell_type": "code",
   "execution_count": null,
   "metadata": {},
   "outputs": [],
   "source": [
    ""
   ]
  },
  {
   "cell_type": "code",
   "execution_count": null,
   "metadata": {},
   "outputs": [],
   "source": [
    ""
   ]
  }
 ],
 "metadata": {
  "kernelspec": {
   "display_name": "Python 2",
   "language": "python",
   "name": "python2"
  },
  "language_info": {
   "codemirror_mode": {
    "name": "ipython",
    "version": 2.0
   },
   "file_extension": ".py",
   "mimetype": "text/x-python",
   "name": "python",
   "nbconvert_exporter": "python",
   "pygments_lexer": "ipython2",
   "version": "2.7.6"
  }
 },
 "nbformat": 4,
 "nbformat_minor": 0
}